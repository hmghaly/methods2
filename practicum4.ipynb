{
 "cells": [
  {
   "cell_type": "code",
   "execution_count": 7,
   "metadata": {
    "collapsed": true
   },
   "outputs": [],
   "source": [
    "our_dict={}"
   ]
  },
  {
   "cell_type": "code",
   "execution_count": 12,
   "metadata": {
    "collapsed": true
   },
   "outputs": [],
   "source": [
    "our_dict[\"animal_name\"]={}\n",
    "our_dict[\"animal_color\"]={}\n"
   ]
  },
  {
   "cell_type": "code",
   "execution_count": 9,
   "metadata": {},
   "outputs": [
    {
     "data": {
      "text/plain": [
       "{'animal_color': {}, 'animal_name': {}}"
      ]
     },
     "execution_count": 9,
     "metadata": {},
     "output_type": "execute_result"
    }
   ],
   "source": [
    "our_dict"
   ]
  },
  {
   "cell_type": "code",
   "execution_count": 14,
   "metadata": {},
   "outputs": [],
   "source": [
    "our_dict[\"animal_name\"][\"cat\"]=1"
   ]
  },
  {
   "cell_type": "code",
   "execution_count": 15,
   "metadata": {},
   "outputs": [
    {
     "data": {
      "text/plain": [
       "{'animal_color': {}, 'animal_name': {'cat': 1}}"
      ]
     },
     "execution_count": 15,
     "metadata": {},
     "output_type": "execute_result"
    }
   ],
   "source": [
    "our_dict"
   ]
  },
  {
   "cell_type": "code",
   "execution_count": 16,
   "metadata": {
    "collapsed": true
   },
   "outputs": [],
   "source": [
    "our_dict[\"animal_color\"][\"green\"]=1"
   ]
  },
  {
   "cell_type": "code",
   "execution_count": 17,
   "metadata": {},
   "outputs": [
    {
     "data": {
      "text/plain": [
       "{'animal_color': {'green': 1}, 'animal_name': {'cat': 1}}"
      ]
     },
     "execution_count": 17,
     "metadata": {},
     "output_type": "execute_result"
    }
   ],
   "source": [
    "our_dict"
   ]
  },
  {
   "cell_type": "code",
   "execution_count": 18,
   "metadata": {
    "collapsed": true
   },
   "outputs": [],
   "source": [
    "sub_dict_name=our_dict[\"animal_name\"]"
   ]
  },
  {
   "cell_type": "code",
   "execution_count": 19,
   "metadata": {},
   "outputs": [
    {
     "data": {
      "text/plain": [
       "{'cat': 1}"
      ]
     },
     "execution_count": 19,
     "metadata": {},
     "output_type": "execute_result"
    }
   ],
   "source": [
    "sub_dict_name"
   ]
  },
  {
   "cell_type": "code",
   "execution_count": 20,
   "metadata": {
    "collapsed": true
   },
   "outputs": [],
   "source": [
    "sub_dict_name[\"unicorn\"]=1"
   ]
  },
  {
   "cell_type": "code",
   "execution_count": 21,
   "metadata": {},
   "outputs": [
    {
     "data": {
      "text/plain": [
       "{'cat': 1, 'unicorn': 1}"
      ]
     },
     "execution_count": 21,
     "metadata": {},
     "output_type": "execute_result"
    }
   ],
   "source": [
    "sub_dict_name"
   ]
  },
  {
   "cell_type": "code",
   "execution_count": 22,
   "metadata": {},
   "outputs": [
    {
     "data": {
      "text/plain": [
       "{'animal_color': {'green': 1}, 'animal_name': {'cat': 1, 'unicorn': 1}}"
      ]
     },
     "execution_count": 22,
     "metadata": {},
     "output_type": "execute_result"
    }
   ],
   "source": [
    "our_dict"
   ]
  },
  {
   "cell_type": "code",
   "execution_count": 23,
   "metadata": {
    "collapsed": true
   },
   "outputs": [],
   "source": [
    "num_cats=sub_dict_name[\"cat\"]"
   ]
  },
  {
   "cell_type": "code",
   "execution_count": 24,
   "metadata": {},
   "outputs": [
    {
     "data": {
      "text/plain": [
       "1"
      ]
     },
     "execution_count": 24,
     "metadata": {},
     "output_type": "execute_result"
    }
   ],
   "source": [
    "num_cats"
   ]
  },
  {
   "cell_type": "code",
   "execution_count": 29,
   "metadata": {},
   "outputs": [],
   "source": [
    "num_dogs=sub_dict_name.get(\"dog\",0)"
   ]
  },
  {
   "cell_type": "code",
   "execution_count": 30,
   "metadata": {},
   "outputs": [
    {
     "name": "stdout",
     "output_type": "stream",
     "text": [
      "0\n"
     ]
    }
   ],
   "source": [
    "print(num_dogs)"
   ]
  },
  {
   "cell_type": "code",
   "execution_count": 34,
   "metadata": {},
   "outputs": [
    {
     "name": "stdout",
     "output_type": "stream",
     "text": [
      "2 0 1\n",
      "{'cat': 3, 'unicorn': 1}\n"
     ]
    },
    {
     "ename": "KeyError",
     "evalue": "'horse'",
     "output_type": "error",
     "traceback": [
      "\u001b[0;31m---------------------------------------------------------------------------\u001b[0m",
      "\u001b[0;31mKeyError\u001b[0m                                  Traceback (most recent call last)",
      "\u001b[0;32m<ipython-input-34-b195c5dd2bf7>\u001b[0m in \u001b[0;36m<module>\u001b[0;34m()\u001b[0m\n\u001b[1;32m      6\u001b[0m \u001b[0msub_dict_name\u001b[0m\u001b[0;34m[\u001b[0m\u001b[0;34m\"cat\"\u001b[0m\u001b[0;34m]\u001b[0m\u001b[0;34m+=\u001b[0m\u001b[0;36m1\u001b[0m\u001b[0;34m\u001b[0m\u001b[0m\n\u001b[1;32m      7\u001b[0m \u001b[0mprint\u001b[0m\u001b[0;34m(\u001b[0m\u001b[0msub_dict_name\u001b[0m\u001b[0;34m)\u001b[0m\u001b[0;34m\u001b[0m\u001b[0m\n\u001b[0;32m----> 8\u001b[0;31m \u001b[0msub_dict_name\u001b[0m\u001b[0;34m[\u001b[0m\u001b[0;34m\"horse\"\u001b[0m\u001b[0;34m]\u001b[0m\u001b[0;34m+=\u001b[0m\u001b[0;36m1\u001b[0m\u001b[0;34m\u001b[0m\u001b[0m\n\u001b[0m",
      "\u001b[0;31mKeyError\u001b[0m: 'horse'"
     ]
    }
   ],
   "source": [
    "num_cats=sub_dict_name.get(\"cat\",0)\n",
    "num_dogs=sub_dict_name.get(\"dog\",0)\n",
    "num_unis=sub_dict_name.get(\"unicorn\",0)\n",
    "print(num_cats,num_dogs,num_unis)\n",
    "\n",
    "sub_dict_name[\"cat\"]+=1\n",
    "print(sub_dict_name)\n",
    "sub_dict_name[\"horse\"]+=1"
   ]
  },
  {
   "cell_type": "code",
   "execution_count": 35,
   "metadata": {
    "collapsed": true
   },
   "outputs": [],
   "source": [
    "num_cats=sub_dict_name.get(\"cat\",0)+1\n",
    "sub_dict_name[\"cat\"]=num_cats"
   ]
  },
  {
   "cell_type": "code",
   "execution_count": 36,
   "metadata": {},
   "outputs": [
    {
     "data": {
      "text/plain": [
       "{'cat': 4, 'unicorn': 1}"
      ]
     },
     "execution_count": 36,
     "metadata": {},
     "output_type": "execute_result"
    }
   ],
   "source": [
    "sub_dict_name"
   ]
  },
  {
   "cell_type": "code",
   "execution_count": 37,
   "metadata": {
    "collapsed": true
   },
   "outputs": [],
   "source": [
    "sub_dict_name[\"cat\"]=sub_dict_name.get(\"cat\",0)+1"
   ]
  },
  {
   "cell_type": "code",
   "execution_count": 38,
   "metadata": {},
   "outputs": [
    {
     "data": {
      "text/plain": [
       "{'cat': 5, 'unicorn': 1}"
      ]
     },
     "execution_count": 38,
     "metadata": {},
     "output_type": "execute_result"
    }
   ],
   "source": [
    "sub_dict_name"
   ]
  },
  {
   "cell_type": "code",
   "execution_count": 39,
   "metadata": {
    "collapsed": true
   },
   "outputs": [],
   "source": [
    "sub_dict_name[\"donkey\"]=sub_dict_name.get(\"donkey\",0)+1"
   ]
  },
  {
   "cell_type": "code",
   "execution_count": 40,
   "metadata": {},
   "outputs": [
    {
     "data": {
      "text/plain": [
       "{'cat': 5, 'donkey': 1, 'unicorn': 1}"
      ]
     },
     "execution_count": 40,
     "metadata": {},
     "output_type": "execute_result"
    }
   ],
   "source": [
    "sub_dict_name"
   ]
  },
  {
   "cell_type": "code",
   "execution_count": 41,
   "metadata": {
    "collapsed": true
   },
   "outputs": [],
   "source": [
    "sub_dict_name[\"horse\"]=sub_dict_name.get(\"horse\",0)+1"
   ]
  },
  {
   "cell_type": "code",
   "execution_count": 42,
   "metadata": {},
   "outputs": [
    {
     "data": {
      "text/plain": [
       "{'cat': 5, 'donkey': 1, 'horse': 1, 'unicorn': 1}"
      ]
     },
     "execution_count": 42,
     "metadata": {},
     "output_type": "execute_result"
    }
   ],
   "source": [
    "sub_dict_name"
   ]
  },
  {
   "cell_type": "code",
   "execution_count": 44,
   "metadata": {},
   "outputs": [
    {
     "name": "stdout",
     "output_type": "stream",
     "text": [
      "{'cat': 5, 'unicorn': 1, 'donkey': 1, 'horse': 1, 'squirrel': 1, 'sloth': 1}\n"
     ]
    }
   ],
   "source": [
    "def increment_key(input_dict,key_name):\n",
    "    input_dict[key_name]=input_dict.get(key_name,0)+1\n",
    "    return input_dict\n",
    "\n",
    "increment_key(sub_dict_name,\"sloth\")    \n",
    "print(sub_dict_name)\n",
    "    "
   ]
  },
  {
   "cell_type": "code",
   "execution_count": 45,
   "metadata": {
    "collapsed": true
   },
   "outputs": [],
   "source": [
    "def increment_2keys(input_dict,key_name1,key_name2):\n",
    "    input_dict[\"animal_name\"][key_name1]=input_dict[\"animal_name\"].get(key_name1,0)+1\n",
    "    input_dict[\"animal_color\"][key_name2]=input_dict[\"animal_color\"].get(key_name2,0)+1 \n",
    "    return input_dict\n",
    "\n",
    "our_dict=increment_2keys(our_dict,\"cat\",\"black\")"
   ]
  },
  {
   "cell_type": "code",
   "execution_count": 46,
   "metadata": {},
   "outputs": [
    {
     "data": {
      "text/plain": [
       "{'animal_color': {'black': 1, 'green': 1},\n",
       " 'animal_name': {'cat': 6,\n",
       "  'donkey': 1,\n",
       "  'horse': 1,\n",
       "  'sloth': 1,\n",
       "  'squirrel': 1,\n",
       "  'unicorn': 1}}"
      ]
     },
     "execution_count": 46,
     "metadata": {},
     "output_type": "execute_result"
    }
   ],
   "source": [
    "our_dict"
   ]
  },
  {
   "cell_type": "code",
   "execution_count": 47,
   "metadata": {
    "collapsed": true
   },
   "outputs": [],
   "source": [
    "our_dict=increment_2keys(our_dict,\"monkey\",\"grey\")"
   ]
  },
  {
   "cell_type": "code",
   "execution_count": 51,
   "metadata": {},
   "outputs": [],
   "source": [
    "our_dict={}\n",
    "our_dict[\"animal_name\"]={}\n",
    "our_dict[\"animal_color\"]={}"
   ]
  },
  {
   "cell_type": "code",
   "execution_count": 52,
   "metadata": {},
   "outputs": [],
   "source": [
    "our_dict=increment_2keys(our_dict,\"monkey\",\"grey\")\n",
    "our_dict=increment_2keys(our_dict,\"cat\",\"grey\")\n",
    "our_dict=increment_2keys(our_dict,\"dog\",\"white\")\n",
    "our_dict=increment_2keys(our_dict,\"donkey\",\"black\")\n",
    "our_dict=increment_2keys(our_dict,\"sheep\",\"black\")\n",
    "our_dict=increment_2keys(our_dict,\"cat\",\"black\")\n",
    "our_dict=increment_2keys(our_dict,\"cat\",\"white\")"
   ]
  },
  {
   "cell_type": "code",
   "execution_count": 53,
   "metadata": {},
   "outputs": [
    {
     "data": {
      "text/plain": [
       "{'animal_color': {'black': 3, 'grey': 2, 'white': 2},\n",
       " 'animal_name': {'cat': 3, 'dog': 1, 'donkey': 1, 'monkey': 1, 'sheep': 1}}"
      ]
     },
     "execution_count": 53,
     "metadata": {},
     "output_type": "execute_result"
    }
   ],
   "source": [
    "our_dict"
   ]
  },
  {
   "cell_type": "code",
   "execution_count": 55,
   "metadata": {},
   "outputs": [
    {
     "name": "stdout",
     "output_type": "stream",
     "text": [
      "{'cat': {'black': 1}}\n"
     ]
    }
   ],
   "source": [
    "our_dict={}\n",
    "our_dict[\"cat\"]={}\n",
    "our_dict[\"cat\"][\"black\"]=1\n",
    "print(our_dict)"
   ]
  },
  {
   "cell_type": "code",
   "execution_count": 56,
   "metadata": {
    "collapsed": true
   },
   "outputs": [],
   "source": [
    "our_dict[\"cat\"][\"white\"]=1"
   ]
  },
  {
   "cell_type": "code",
   "execution_count": 57,
   "metadata": {},
   "outputs": [
    {
     "name": "stdout",
     "output_type": "stream",
     "text": [
      "{'cat': {'black': 1, 'white': 1}}\n"
     ]
    }
   ],
   "source": [
    "print(our_dict)"
   ]
  },
  {
   "cell_type": "code",
   "execution_count": 58,
   "metadata": {},
   "outputs": [
    {
     "name": "stdout",
     "output_type": "stream",
     "text": [
      "{'cat': {'black': 1, 'white': 1}, 'dog': {'black': 1}}\n"
     ]
    }
   ],
   "source": [
    "temp_dict=our_dict.get(\"dog\",{})\n",
    "temp_dict[\"black\"]=temp_dict.get(\"black\",0)+1\n",
    "our_dict[\"dog\"]=temp_dict\n",
    "print(our_dict)\n"
   ]
  },
  {
   "cell_type": "code",
   "execution_count": 60,
   "metadata": {},
   "outputs": [
    {
     "name": "stdout",
     "output_type": "stream",
     "text": [
      "{'dog': {'black': 1}, 'cat': {'white': 1, 'grey': 1, 'black': 1}, 'snake': {'green': 1}, 'horse': {'black': 2, 'white': 1}}\n"
     ]
    }
   ],
   "source": [
    "def inc(input_dict,key1,key2):\n",
    "    temp_dict=input_dict.get(key1,{})\n",
    "    temp_dict[key2]=temp_dict.get(key2,0)+1\n",
    "    our_dict[key1]=temp_dict    \n",
    "    #return our_dict\n",
    "our_dict={}\n",
    "inc(our_dict,\"dog\",\"black\")\n",
    "inc(our_dict,\"cat\",\"white\")\n",
    "inc(our_dict,\"snake\",\"green\")\n",
    "inc(our_dict,\"horse\",\"black\")\n",
    "inc(our_dict,\"horse\",\"white\")\n",
    "inc(our_dict,\"horse\",\"black\")\n",
    "inc(our_dict,\"cat\",\"grey\")\n",
    "inc(our_dict,\"cat\",\"black\")\n",
    "\n",
    "print(our_dict)"
   ]
  },
  {
   "cell_type": "code",
   "execution_count": 63,
   "metadata": {},
   "outputs": [],
   "source": [
    "dict_vals=our_dict.values()"
   ]
  },
  {
   "cell_type": "code",
   "execution_count": 73,
   "metadata": {
    "scrolled": false
   },
   "outputs": [
    {
     "name": "stdout",
     "output_type": "stream",
     "text": [
      "{'black': 1}\n",
      "dict_values([1])\n",
      "1\n",
      "black count 1\n",
      "---\n",
      "{'white': 1, 'grey': 1, 'black': 1}\n",
      "dict_values([1, 1, 1])\n",
      "3\n",
      "black count 1\n",
      "---\n",
      "{'green': 1}\n",
      "dict_values([1])\n",
      "1\n",
      "black count 0\n",
      "---\n",
      "{'black': 2, 'white': 1}\n",
      "dict_values([2, 1])\n",
      "3\n",
      "black count 2\n",
      "---\n",
      "dict count 8\n"
     ]
    }
   ],
   "source": [
    "dict_count=0\n",
    "total_black=0\n",
    "for dv in dict_vals:\n",
    "    print(dv)\n",
    "    print(dv.values())\n",
    "    cur_black_count=dv.get(\"black\",0)\n",
    "    \n",
    "    local_sum=sum(dv.values())\n",
    "    print(local_sum)\n",
    "    dict_count+=local_sum\n",
    "    print(\"black count\",cur_black_count)\n",
    "    print(\"---\")\n",
    "print(\"dict count\", dict_count)\n",
    "    "
   ]
  },
  {
   "cell_type": "code",
   "execution_count": 69,
   "metadata": {},
   "outputs": [
    {
     "data": {
      "text/plain": [
       "0.25"
      ]
     },
     "execution_count": 69,
     "metadata": {},
     "output_type": "execute_result"
    }
   ],
   "source": [
    "our_dict[\"horse\"][\"black\"]/dict_count"
   ]
  },
  {
   "cell_type": "code",
   "execution_count": 70,
   "metadata": {},
   "outputs": [
    {
     "data": {
      "text/plain": [
       "dict_values([2, 1])"
      ]
     },
     "execution_count": 70,
     "metadata": {},
     "output_type": "execute_result"
    }
   ],
   "source": [
    "our_dict[\"horse\"].values()"
   ]
  },
  {
   "cell_type": "code",
   "execution_count": 71,
   "metadata": {},
   "outputs": [
    {
     "data": {
      "text/plain": [
       "3"
      ]
     },
     "execution_count": 71,
     "metadata": {},
     "output_type": "execute_result"
    }
   ],
   "source": [
    "sum(our_dict[\"horse\"].values())"
   ]
  },
  {
   "cell_type": "code",
   "execution_count": 74,
   "metadata": {
    "collapsed": true
   },
   "outputs": [],
   "source": [
    "sent='the widespread interest in the election , the number of voters and the size of this city '' .'"
   ]
  },
  {
   "cell_type": "code",
   "execution_count": 75,
   "metadata": {},
   "outputs": [
    {
     "data": {
      "text/plain": [
       "['the',\n",
       " 'widespread',\n",
       " 'interest',\n",
       " 'in',\n",
       " 'the',\n",
       " 'election',\n",
       " ',',\n",
       " 'the',\n",
       " 'number',\n",
       " 'of',\n",
       " 'voters',\n",
       " 'and',\n",
       " 'the',\n",
       " 'size',\n",
       " 'of',\n",
       " 'this',\n",
       " 'city',\n",
       " '.']"
      ]
     },
     "execution_count": 75,
     "metadata": {},
     "output_type": "execute_result"
    }
   ],
   "source": [
    "sent.split()"
   ]
  },
  {
   "cell_type": "code",
   "execution_count": null,
   "metadata": {
    "collapsed": true
   },
   "outputs": [],
   "source": []
  }
 ],
 "metadata": {
  "kernelspec": {
   "display_name": "Python 3",
   "language": "python",
   "name": "python3"
  },
  "language_info": {
   "codemirror_mode": {
    "name": "ipython",
    "version": 3
   },
   "file_extension": ".py",
   "mimetype": "text/x-python",
   "name": "python",
   "nbconvert_exporter": "python",
   "pygments_lexer": "ipython3",
   "version": "3.6.1"
  }
 },
 "nbformat": 4,
 "nbformat_minor": 2
}
