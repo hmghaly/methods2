{
 "cells": [
  {
   "cell_type": "code",
   "execution_count": 1,
   "metadata": {
    "collapsed": true
   },
   "outputs": [],
   "source": [
    "import nltk"
   ]
  },
  {
   "cell_type": "code",
   "execution_count": 2,
   "metadata": {
    "collapsed": true
   },
   "outputs": [],
   "source": [
    "gutenberg=nltk.corpus.gutenberg"
   ]
  },
  {
   "cell_type": "code",
   "execution_count": 79,
   "metadata": {},
   "outputs": [
    {
     "name": "stdout",
     "output_type": "stream",
     "text": [
      "showing info https://raw.githubusercontent.com/nltk/nltk_data/gh-pages/index.xml\n"
     ]
    },
    {
     "data": {
      "text/plain": [
       "True"
      ]
     },
     "execution_count": 79,
     "metadata": {},
     "output_type": "execute_result"
    }
   ],
   "source": [
    "nltk.download()"
   ]
  },
  {
   "cell_type": "code",
   "execution_count": 6,
   "metadata": {},
   "outputs": [
    {
     "name": "stdout",
     "output_type": "stream",
     "text": [
      "showing info https://raw.githubusercontent.com/nltk/nltk_data/gh-pages/index.xml\n"
     ]
    },
    {
     "data": {
      "text/plain": [
       "True"
      ]
     },
     "execution_count": 6,
     "metadata": {},
     "output_type": "execute_result"
    }
   ],
   "source": [
    "nltk.download()"
   ]
  },
  {
   "cell_type": "code",
   "execution_count": 7,
   "metadata": {
    "collapsed": true
   },
   "outputs": [],
   "source": [
    "from nltk.corpus import gutenberg"
   ]
  },
  {
   "cell_type": "code",
   "execution_count": 8,
   "metadata": {},
   "outputs": [
    {
     "data": {
      "text/plain": [
       "<PlaintextCorpusReader in '/Users/hmghaly/nltk_data/corpora/gutenberg'>"
      ]
     },
     "execution_count": 8,
     "metadata": {},
     "output_type": "execute_result"
    }
   ],
   "source": [
    "gutenberg"
   ]
  },
  {
   "cell_type": "code",
   "execution_count": 9,
   "metadata": {},
   "outputs": [
    {
     "data": {
      "text/plain": [
       "['austen-emma.txt',\n",
       " 'austen-persuasion.txt',\n",
       " 'austen-sense.txt',\n",
       " 'bible-kjv.txt',\n",
       " 'blake-poems.txt',\n",
       " 'bryant-stories.txt',\n",
       " 'burgess-busterbrown.txt',\n",
       " 'carroll-alice.txt',\n",
       " 'chesterton-ball.txt',\n",
       " 'chesterton-brown.txt',\n",
       " 'chesterton-thursday.txt',\n",
       " 'edgeworth-parents.txt',\n",
       " 'melville-moby_dick.txt',\n",
       " 'milton-paradise.txt',\n",
       " 'shakespeare-caesar.txt',\n",
       " 'shakespeare-hamlet.txt',\n",
       " 'shakespeare-macbeth.txt',\n",
       " 'whitman-leaves.txt']"
      ]
     },
     "execution_count": 9,
     "metadata": {},
     "output_type": "execute_result"
    }
   ],
   "source": [
    "gutenberg.fileids()"
   ]
  },
  {
   "cell_type": "code",
   "execution_count": 10,
   "metadata": {
    "collapsed": true
   },
   "outputs": [],
   "source": [
    "emma = gutenberg.words('austen-emma.txt')"
   ]
  },
  {
   "cell_type": "code",
   "execution_count": 11,
   "metadata": {},
   "outputs": [
    {
     "data": {
      "text/plain": [
       "['[', 'Emma', 'by', 'Jane', 'Austen', '1816', ']', ...]"
      ]
     },
     "execution_count": 11,
     "metadata": {},
     "output_type": "execute_result"
    }
   ],
   "source": [
    "emma"
   ]
  },
  {
   "cell_type": "code",
   "execution_count": 12,
   "metadata": {},
   "outputs": [
    {
     "data": {
      "text/plain": [
       "['_MAX_REPR_SIZE',\n",
       " '__add__',\n",
       " '__class__',\n",
       " '__contains__',\n",
       " '__delattr__',\n",
       " '__dict__',\n",
       " '__dir__',\n",
       " '__doc__',\n",
       " '__eq__',\n",
       " '__format__',\n",
       " '__ge__',\n",
       " '__getattribute__',\n",
       " '__getitem__',\n",
       " '__gt__',\n",
       " '__hash__',\n",
       " '__init__',\n",
       " '__init_subclass__',\n",
       " '__iter__',\n",
       " '__le__',\n",
       " '__len__',\n",
       " '__lt__',\n",
       " '__module__',\n",
       " '__mul__',\n",
       " '__ne__',\n",
       " '__new__',\n",
       " '__radd__',\n",
       " '__reduce__',\n",
       " '__reduce_ex__',\n",
       " '__repr__',\n",
       " '__rmul__',\n",
       " '__setattr__',\n",
       " '__sizeof__',\n",
       " '__str__',\n",
       " '__subclasshook__',\n",
       " '__unicode__',\n",
       " '__weakref__',\n",
       " '_cache',\n",
       " '_current_blocknum',\n",
       " '_current_toknum',\n",
       " '_encoding',\n",
       " '_eofpos',\n",
       " '_fileid',\n",
       " '_filepos',\n",
       " '_len',\n",
       " '_open',\n",
       " '_stream',\n",
       " '_toknum',\n",
       " 'close',\n",
       " 'count',\n",
       " 'fileid',\n",
       " 'index',\n",
       " 'iterate_from',\n",
       " 'read_block',\n",
       " 'unicode_repr']"
      ]
     },
     "execution_count": 12,
     "metadata": {},
     "output_type": "execute_result"
    }
   ],
   "source": [
    "dir(emma)"
   ]
  },
  {
   "cell_type": "code",
   "execution_count": 13,
   "metadata": {},
   "outputs": [
    {
     "data": {
      "text/plain": [
       "FileSystemPathPointer('/Users/hmghaly/nltk_data/corpora/gutenberg/austen-emma.txt')"
      ]
     },
     "execution_count": 13,
     "metadata": {},
     "output_type": "execute_result"
    }
   ],
   "source": [
    "emma.fileid"
   ]
  },
  {
   "cell_type": "code",
   "execution_count": 15,
   "metadata": {},
   "outputs": [],
   "source": [
    "persuasion_words=gutenberg.words('austen-persuasion.txt')"
   ]
  },
  {
   "cell_type": "code",
   "execution_count": 16,
   "metadata": {},
   "outputs": [
    {
     "data": {
      "text/plain": [
       "['[', 'Persuasion', 'by', 'Jane', 'Austen', '1818', ...]"
      ]
     },
     "execution_count": 16,
     "metadata": {},
     "output_type": "execute_result"
    }
   ],
   "source": [
    "persuasion_words"
   ]
  },
  {
   "cell_type": "code",
   "execution_count": 17,
   "metadata": {},
   "outputs": [
    {
     "data": {
      "text/plain": [
       "98171"
      ]
     },
     "execution_count": 17,
     "metadata": {},
     "output_type": "execute_result"
    }
   ],
   "source": [
    "len(persuasion_words)"
   ]
  },
  {
   "cell_type": "code",
   "execution_count": 18,
   "metadata": {
    "collapsed": true
   },
   "outputs": [],
   "source": [
    "unique_words=set(persuasion_words)"
   ]
  },
  {
   "cell_type": "code",
   "execution_count": 19,
   "metadata": {},
   "outputs": [
    {
     "data": {
      "text/plain": [
       "6132"
      ]
     },
     "execution_count": 19,
     "metadata": {},
     "output_type": "execute_result"
    }
   ],
   "source": [
    "len(unique_words)"
   ]
  },
  {
   "cell_type": "code",
   "execution_count": 20,
   "metadata": {},
   "outputs": [
    {
     "data": {
      "text/plain": [
       "['austen-emma.txt',\n",
       " 'austen-persuasion.txt',\n",
       " 'austen-sense.txt',\n",
       " 'bible-kjv.txt',\n",
       " 'blake-poems.txt',\n",
       " 'bryant-stories.txt',\n",
       " 'burgess-busterbrown.txt',\n",
       " 'carroll-alice.txt',\n",
       " 'chesterton-ball.txt',\n",
       " 'chesterton-brown.txt',\n",
       " 'chesterton-thursday.txt',\n",
       " 'edgeworth-parents.txt',\n",
       " 'melville-moby_dick.txt',\n",
       " 'milton-paradise.txt',\n",
       " 'shakespeare-caesar.txt',\n",
       " 'shakespeare-hamlet.txt',\n",
       " 'shakespeare-macbeth.txt',\n",
       " 'whitman-leaves.txt']"
      ]
     },
     "execution_count": 20,
     "metadata": {},
     "output_type": "execute_result"
    }
   ],
   "source": [
    "gutenberg.fileids()"
   ]
  },
  {
   "cell_type": "code",
   "execution_count": 2,
   "metadata": {
    "scrolled": true
   },
   "outputs": [],
   "source": [
    "import nltk\n",
    "names = nltk.corpus.names\n",
    "names.fileids()\n",
    "male_names = names.words('male.txt')\n",
    "female_names = names.words('female.txt')\n"
   ]
  },
  {
   "cell_type": "code",
   "execution_count": 5,
   "metadata": {},
   "outputs": [],
   "source": [
    "both=[w for w in male_names if w in female_names]"
   ]
  },
  {
   "cell_type": "code",
   "execution_count": 10,
   "metadata": {},
   "outputs": [],
   "source": [
    "names_g=[v for v in both if v[0]==\"G\"]"
   ]
  },
  {
   "cell_type": "code",
   "execution_count": 16,
   "metadata": {
    "scrolled": true
   },
   "outputs": [
    {
     "data": {
      "text/plain": [
       "(2943, 5001)"
      ]
     },
     "execution_count": 16,
     "metadata": {},
     "output_type": "execute_result"
    }
   ],
   "source": [
    "len(male_names), len(female_names)\n"
   ]
  },
  {
   "cell_type": "code",
   "execution_count": 20,
   "metadata": {
    "scrolled": false
   },
   "outputs": [
    {
     "data": {
      "image/png": "[encoded data removed]",
      "text/plain": [
       "<matplotlib.figure.Figure at 0x1135b8b38>"
      ]
     },
     "metadata": {},
     "output_type": "display_data"
    }
   ],
   "source": [
    "cfd = nltk.ConditionalFreqDist(\n",
    "    (fileid, name[-1] )\n",
    "    for fileid in names.fileids()\n",
    "    for name in names.words(fileid))\n",
    "cfd.plot()"
   ]
  },
  {
   "cell_type": "code",
   "execution_count": 21,
   "metadata": {
    "collapsed": true
   },
   "outputs": [],
   "source": [
    "from nltk.corpus import brown"
   ]
  },
  {
   "cell_type": "code",
   "execution_count": 22,
   "metadata": {},
   "outputs": [
    {
     "data": {
      "text/plain": [
       "<CategorizedTaggedCorpusReader in '/Users/hmghaly/nltk_data/corpora/brown'>"
      ]
     },
     "execution_count": 22,
     "metadata": {},
     "output_type": "execute_result"
    }
   ],
   "source": [
    "brown"
   ]
  },
  {
   "cell_type": "code",
   "execution_count": 26,
   "metadata": {},
   "outputs": [],
   "source": [
    "tagged=brown.tagged_words()"
   ]
  },
  {
   "cell_type": "code",
   "execution_count": 27,
   "metadata": {},
   "outputs": [
    {
     "data": {
      "text/plain": [
       "1161192"
      ]
     },
     "execution_count": 27,
     "metadata": {},
     "output_type": "execute_result"
    }
   ],
   "source": [
    "len(tagged)"
   ]
  },
  {
   "cell_type": "code",
   "execution_count": 29,
   "metadata": {},
   "outputs": [
    {
     "data": {
      "text/plain": [
       "[('The', 'AT'),\n",
       " ('Fulton', 'NP-TL'),\n",
       " ('County', 'NN-TL'),\n",
       " ('Grand', 'JJ-TL'),\n",
       " ('Jury', 'NN-TL'),\n",
       " ('said', 'VBD'),\n",
       " ('Friday', 'NR'),\n",
       " ('an', 'AT'),\n",
       " ('investigation', 'NN'),\n",
       " ('of', 'IN'),\n",
       " (\"Atlanta's\", 'NP$'),\n",
       " ('recent', 'JJ'),\n",
       " ('primary', 'NN'),\n",
       " ('election', 'NN'),\n",
       " ('produced', 'VBD'),\n",
       " ('``', '``'),\n",
       " ('no', 'AT'),\n",
       " ('evidence', 'NN'),\n",
       " (\"''\", \"''\"),\n",
       " ('that', 'CS'),\n",
       " ('any', 'DTI'),\n",
       " ('irregularities', 'NNS'),\n",
       " ('took', 'VBD'),\n",
       " ('place', 'NN'),\n",
       " ('.', '.'),\n",
       " ('The', 'AT'),\n",
       " ('jury', 'NN'),\n",
       " ('further', 'RBR'),\n",
       " ('said', 'VBD'),\n",
       " ('in', 'IN'),\n",
       " ('term-end', 'NN'),\n",
       " ('presentments', 'NNS'),\n",
       " ('that', 'CS'),\n",
       " ('the', 'AT'),\n",
       " ('City', 'NN-TL'),\n",
       " ('Executive', 'JJ-TL'),\n",
       " ('Committee', 'NN-TL'),\n",
       " (',', ','),\n",
       " ('which', 'WDT'),\n",
       " ('had', 'HVD'),\n",
       " ('over-all', 'JJ'),\n",
       " ('charge', 'NN'),\n",
       " ('of', 'IN'),\n",
       " ('the', 'AT'),\n",
       " ('election', 'NN'),\n",
       " (',', ','),\n",
       " ('``', '``'),\n",
       " ('deserves', 'VBZ'),\n",
       " ('the', 'AT'),\n",
       " ('praise', 'NN'),\n",
       " ('and', 'CC'),\n",
       " ('thanks', 'NNS'),\n",
       " ('of', 'IN'),\n",
       " ('the', 'AT'),\n",
       " ('City', 'NN-TL'),\n",
       " ('of', 'IN-TL'),\n",
       " ('Atlanta', 'NP-TL'),\n",
       " (\"''\", \"''\"),\n",
       " ('for', 'IN'),\n",
       " ('the', 'AT'),\n",
       " ('manner', 'NN'),\n",
       " ('in', 'IN'),\n",
       " ('which', 'WDT'),\n",
       " ('the', 'AT'),\n",
       " ('election', 'NN'),\n",
       " ('was', 'BEDZ'),\n",
       " ('conducted', 'VBN'),\n",
       " ('.', '.'),\n",
       " ('The', 'AT'),\n",
       " ('September-October', 'NP'),\n",
       " ('term', 'NN'),\n",
       " ('jury', 'NN'),\n",
       " ('had', 'HVD'),\n",
       " ('been', 'BEN'),\n",
       " ('charged', 'VBN'),\n",
       " ('by', 'IN'),\n",
       " ('Fulton', 'NP-TL'),\n",
       " ('Superior', 'JJ-TL'),\n",
       " ('Court', 'NN-TL'),\n",
       " ('Judge', 'NN-TL'),\n",
       " ('Durwood', 'NP'),\n",
       " ('Pye', 'NP'),\n",
       " ('to', 'TO'),\n",
       " ('investigate', 'VB'),\n",
       " ('reports', 'NNS'),\n",
       " ('of', 'IN'),\n",
       " ('possible', 'JJ'),\n",
       " ('``', '``'),\n",
       " ('irregularities', 'NNS'),\n",
       " (\"''\", \"''\"),\n",
       " ('in', 'IN'),\n",
       " ('the', 'AT'),\n",
       " ('hard-fought', 'JJ'),\n",
       " ('primary', 'NN'),\n",
       " ('which', 'WDT'),\n",
       " ('was', 'BEDZ'),\n",
       " ('won', 'VBN'),\n",
       " ('by', 'IN'),\n",
       " ('Mayor-nominate', 'NN-TL'),\n",
       " ('Ivan', 'NP')]"
      ]
     },
     "execution_count": 29,
     "metadata": {},
     "output_type": "execute_result"
    }
   ],
   "source": [
    "list(tagged[:100])"
   ]
  },
  {
   "cell_type": "code",
   "execution_count": 30,
   "metadata": {
    "collapsed": true
   },
   "outputs": [],
   "source": [
    "brown_words=brown.words()"
   ]
  },
  {
   "cell_type": "code",
   "execution_count": 36,
   "metadata": {},
   "outputs": [],
   "source": [
    "all_lower_brown_words=[v.lower() for v in brown_words]"
   ]
  },
  {
   "cell_type": "code",
   "execution_count": 40,
   "metadata": {},
   "outputs": [],
   "source": [
    "unique_words=list(set(all_lower_brown_words))"
   ]
  },
  {
   "cell_type": "code",
   "execution_count": 41,
   "metadata": {},
   "outputs": [
    {
     "data": {
      "text/plain": [
       "49815"
      ]
     },
     "execution_count": 41,
     "metadata": {},
     "output_type": "execute_result"
    }
   ],
   "source": [
    "len(unique_words)"
   ]
  },
  {
   "cell_type": "code",
   "execution_count": 43,
   "metadata": {},
   "outputs": [
    {
     "data": {
      "text/plain": [
       "['merrily',\n",
       " 'sinful',\n",
       " 'contortion',\n",
       " 'accompaniments',\n",
       " 'interfaces',\n",
       " 'pinkish-white',\n",
       " 'precept',\n",
       " 'gangland',\n",
       " 'coyotes',\n",
       " 'masked']"
      ]
     },
     "execution_count": 43,
     "metadata": {},
     "output_type": "execute_result"
    }
   ],
   "source": [
    "unique_words[:10]"
   ]
  },
  {
   "cell_type": "code",
   "execution_count": 44,
   "metadata": {},
   "outputs": [
    {
     "name": "stdout",
     "output_type": "stream",
     "text": [
      "merrily 2\n",
      "sinful 3\n",
      "contortion 1\n",
      "accompaniments 3\n",
      "interfaces 5\n",
      "pinkish-white 1\n",
      "precept 1\n",
      "gangland 1\n",
      "coyotes 1\n",
      "masked 4\n"
     ]
    }
   ],
   "source": [
    "for uw in unique_words[:10]:\n",
    "    print(uw,all_lower_brown_words.count(uw))"
   ]
  },
  {
   "cell_type": "code",
   "execution_count": 46,
   "metadata": {},
   "outputs": [
    {
     "name": "stdout",
     "output_type": "stream",
     "text": [
      "sinful 3\n",
      "satisfy 16\n",
      "sioux 8\n",
      "shadowing 5\n",
      "seward 5\n",
      "steeple 9\n",
      "sharing 23\n",
      "specifying 3\n",
      "sector 13\n",
      "saying 113\n",
      "stepped-up 3\n",
      "scorn 4\n",
      "smoother 3\n",
      "sexually 6\n",
      "staining 37\n",
      "soul's 3\n",
      "solemn 12\n",
      "stammered 4\n",
      "sores 3\n",
      "suppose 97\n",
      "shriveled 3\n",
      "switches 26\n",
      "self-satisfaction 4\n",
      "snow 59\n",
      "scream 13\n",
      "surface-active 7\n",
      "springfield 3\n",
      "steps 119\n",
      "scapin 4\n",
      "sovereignty 28\n",
      "shoot 27\n",
      "symbolic 35\n",
      "stereotype 12\n",
      "sustenance 3\n",
      "shoup 4\n",
      "sites 16\n",
      "secretarial 4\n",
      "scratching 12\n",
      "somebody's 6\n",
      "strenuous 11\n",
      "seeks 10\n",
      "styles 20\n",
      "seato 5\n",
      "sewer 10\n",
      "systematic 18\n",
      "supplies 47\n",
      "stairs 47\n",
      "slipped 32\n",
      "salute 3\n",
      "salad 9\n",
      "south 240\n"
     ]
    }
   ],
   "source": [
    "for uw in unique_words[:1000]:\n",
    "    if uw[0]==\"s\" and all_lower_brown_words.count(uw)>=3:\n",
    "        print(uw,all_lower_brown_words.count(uw))\n",
    "    "
   ]
  },
  {
   "cell_type": "code",
   "execution_count": 48,
   "metadata": {},
   "outputs": [
    {
     "name": "stdout",
     "output_type": "stream",
     "text": [
      "sinful 3\n",
      "satisfy 16\n",
      "sioux 8\n",
      "shadowing 5\n",
      "seward 5\n",
      "steeple 9\n",
      "sharing 23\n",
      "specifying 3\n",
      "sector 13\n",
      "saying 113\n",
      "stepped-up 3\n",
      "scorn 4\n",
      "smoother 3\n",
      "sexually 6\n",
      "staining 37\n",
      "soul's 3\n",
      "solemn 12\n",
      "stammered 4\n",
      "sores 3\n",
      "suppose 97\n",
      "shriveled 3\n",
      "switches 26\n",
      "self-satisfaction 4\n",
      "snow 59\n",
      "scream 13\n",
      "surface-active 7\n",
      "springfield 3\n",
      "steps 119\n",
      "scapin 4\n",
      "sovereignty 28\n",
      "shoot 27\n",
      "symbolic 35\n",
      "stereotype 12\n",
      "sustenance 3\n",
      "shoup 4\n",
      "sites 16\n",
      "secretarial 4\n",
      "scratching 12\n",
      "somebody's 6\n",
      "strenuous 11\n",
      "seeks 10\n",
      "styles 20\n",
      "seato 5\n",
      "sewer 10\n",
      "systematic 18\n",
      "supplies 47\n",
      "stairs 47\n",
      "slipped 32\n",
      "salute 3\n",
      "salad 9\n",
      "south 240\n",
      "elapsed 5.490973949432373\n"
     ]
    }
   ],
   "source": [
    "import time\n",
    "t0=time.time()\n",
    "for uw in unique_words[:1000]:\n",
    "    if uw[0]==\"s\" and all_lower_brown_words.count(uw)>=3:\n",
    "        print(uw,all_lower_brown_words.count(uw))\n",
    "t1=time.time()\n",
    "elapsed=t1-t0\n",
    "print(\"elapsed\",elapsed)"
   ]
  },
  {
   "cell_type": "code",
   "execution_count": 49,
   "metadata": {},
   "outputs": [
    {
     "name": "stdout",
     "output_type": "stream",
     "text": [
      "sinful 3\n",
      "satisfy 16\n",
      "sioux 8\n",
      "shadowing 5\n",
      "seward 5\n",
      "steeple 9\n",
      "sharing 23\n",
      "specifying 3\n",
      "sector 13\n",
      "saying 113\n",
      "stepped-up 3\n",
      "scorn 4\n",
      "smoother 3\n",
      "sexually 6\n",
      "staining 37\n",
      "soul's 3\n",
      "solemn 12\n",
      "stammered 4\n",
      "sores 3\n",
      "suppose 97\n",
      "shriveled 3\n",
      "switches 26\n",
      "self-satisfaction 4\n",
      "snow 59\n",
      "scream 13\n",
      "surface-active 7\n",
      "springfield 3\n",
      "steps 119\n",
      "scapin 4\n",
      "sovereignty 28\n",
      "shoot 27\n",
      "symbolic 35\n",
      "stereotype 12\n",
      "sustenance 3\n",
      "shoup 4\n",
      "sites 16\n",
      "secretarial 4\n",
      "scratching 12\n",
      "somebody's 6\n",
      "strenuous 11\n",
      "seeks 10\n",
      "styles 20\n",
      "seato 5\n",
      "sewer 10\n",
      "systematic 18\n",
      "supplies 47\n",
      "stairs 47\n",
      "slipped 32\n",
      "salute 3\n",
      "salad 9\n",
      "south 240\n",
      "elapsed 32.15163493156433\n"
     ]
    }
   ],
   "source": [
    "import time\n",
    "t0=time.time()\n",
    "for uw in unique_words[:1000]:\n",
    "    if all_lower_brown_words.count(uw)>=3 and uw[0]==\"s\":\n",
    "        print(uw,all_lower_brown_words.count(uw))\n",
    "t1=time.time()\n",
    "elapsed=t1-t0\n",
    "print(\"elapsed\",elapsed)"
   ]
  },
  {
   "cell_type": "code",
   "execution_count": 57,
   "metadata": {
    "scrolled": true
   },
   "outputs": [
    {
     "name": "stdout",
     "output_type": "stream",
     "text": [
      "100554\n",
      "13112\n",
      "0.13039759731089762\n"
     ]
    }
   ],
   "source": [
    "from nltk.corpus import brown\n",
    "brown_categories=brown.categories()\n",
    "new_words=brown.words(categories='news')\n",
    "news_lower=[v.lower() for v in new_words]\n",
    "unique_new_words=list(set(news_lower))\n",
    "lexical_diversity=len(unique_new_words)/len(news_lower)\n",
    "print(len(news_lower))\n",
    "print(len(unique_new_words))\n",
    "print(lexical_diversity)"
   ]
  },
  {
   "cell_type": "code",
   "execution_count": 61,
   "metadata": {
    "scrolled": false
   },
   "outputs": [
    {
     "name": "stdout",
     "output_type": "stream",
     "text": [
      "adventure 0.12\n",
      "belles_lettres 0.1\n",
      "editorial 0.15\n",
      "fiction 0.13\n",
      "government 0.1\n",
      "hobbies 0.13\n",
      "humor 0.22\n",
      "learned 0.09\n",
      "lore 0.12\n",
      "mystery 0.11\n",
      "news 0.13\n",
      "religion 0.15\n",
      "reviews 0.2\n",
      "romance 0.11\n",
      "science_fiction 0.21\n"
     ]
    }
   ],
   "source": [
    "for cat in brown_categories:\n",
    "    cur_category_words=brown.words(categories=cat)\n",
    "    words_lower=[v.lower() for v in cur_category_words]\n",
    "    unique_words=list(set(words_lower))\n",
    "    lexical_diversity=len(unique_words)/len(words_lower)\n",
    "    print(cat, round(lexical_diversity,2))\n",
    "    \n",
    "    "
   ]
  },
  {
   "cell_type": "code",
   "execution_count": 63,
   "metadata": {
    "collapsed": true
   },
   "outputs": [],
   "source": [
    "cur_category_words=brown.words(categories=\"learned\")\n"
   ]
  },
  {
   "cell_type": "code",
   "execution_count": 65,
   "metadata": {},
   "outputs": [],
   "source": [
    "learned_words=list(cur_category_words)"
   ]
  },
  {
   "cell_type": "code",
   "execution_count": 68,
   "metadata": {},
   "outputs": [
    {
     "data": {
      "text/plain": [
       "['No',\n",
       " 'attempts',\n",
       " 'to',\n",
       " 'measure',\n",
       " 'the',\n",
       " 'radio',\n",
       " 'emission',\n",
       " 'of',\n",
       " 'the',\n",
       " 'remaining',\n",
       " 'planets',\n",
       " 'have',\n",
       " 'been',\n",
       " 'reported',\n",
       " ',',\n",
       " 'and',\n",
       " ',',\n",
       " 'because',\n",
       " 'of',\n",
       " 'their',\n",
       " 'distances',\n",
       " ',',\n",
       " 'small',\n",
       " 'diameters',\n",
       " ',',\n",
       " 'or',\n",
       " 'low',\n",
       " 'temperatures',\n",
       " ',',\n",
       " 'the',\n",
       " 'thermal',\n",
       " 'radiation',\n",
       " 'at',\n",
       " 'radio',\n",
       " 'wave',\n",
       " 'lengths',\n",
       " 'reaching',\n",
       " 'the',\n",
       " 'earth',\n",
       " 'from',\n",
       " 'these',\n",
       " 'sources',\n",
       " 'is',\n",
       " 'expected',\n",
       " 'to',\n",
       " 'be',\n",
       " 'of',\n",
       " 'very',\n",
       " 'low',\n",
       " 'intensity',\n",
       " '.',\n",
       " 'In',\n",
       " 'spite',\n",
       " 'of',\n",
       " 'this',\n",
       " ',',\n",
       " 'the',\n",
       " 'very',\n",
       " 'large',\n",
       " 'radio',\n",
       " 'reflectors',\n",
       " 'and',\n",
       " 'improved',\n",
       " 'amplifying',\n",
       " 'techniques',\n",
       " 'which',\n",
       " 'are',\n",
       " 'now',\n",
       " 'becoming',\n",
       " 'available',\n",
       " 'should',\n",
       " 'make',\n",
       " 'it',\n",
       " 'possible',\n",
       " 'to',\n",
       " 'observe',\n",
       " 'the',\n",
       " 'radio',\n",
       " 'emission',\n",
       " 'of',\n",
       " 'most',\n",
       " 'of',\n",
       " 'the',\n",
       " 'planets',\n",
       " 'in',\n",
       " 'a',\n",
       " 'few',\n",
       " 'years',\n",
       " '.',\n",
       " 'The',\n",
       " 'study',\n",
       " 'of',\n",
       " 'the',\n",
       " 'radio',\n",
       " 'emission',\n",
       " 'of',\n",
       " 'the',\n",
       " 'moon',\n",
       " 'and',\n",
       " 'planets',\n",
       " 'began',\n",
       " 'with',\n",
       " 'the',\n",
       " 'detection',\n",
       " 'of',\n",
       " 'the',\n",
       " 'thermal',\n",
       " 'radiation',\n",
       " 'of',\n",
       " 'the',\n",
       " 'moon',\n",
       " 'at',\n",
       " '1.25-cm',\n",
       " 'wave',\n",
       " 'length',\n",
       " 'by',\n",
       " 'Dicke',\n",
       " 'and',\n",
       " 'Beringer',\n",
       " '(',\n",
       " '1946',\n",
       " ')',\n",
       " '.',\n",
       " 'This',\n",
       " 'was',\n",
       " 'followed',\n",
       " 'by',\n",
       " 'a',\n",
       " 'comprehensive',\n",
       " 'series',\n",
       " 'of',\n",
       " 'observations',\n",
       " 'of',\n",
       " 'the',\n",
       " '1.25-cm',\n",
       " 'emission',\n",
       " 'of',\n",
       " 'the',\n",
       " 'moon',\n",
       " 'over',\n",
       " 'three',\n",
       " 'lunar',\n",
       " 'cycles',\n",
       " 'by',\n",
       " 'Piddington',\n",
       " 'and',\n",
       " 'Minnett',\n",
       " '(',\n",
       " '1949',\n",
       " ')',\n",
       " '.',\n",
       " 'They',\n",
       " 'deduced',\n",
       " 'from',\n",
       " 'their',\n",
       " 'measurements',\n",
       " 'that',\n",
       " 'the',\n",
       " 'radio',\n",
       " 'emission',\n",
       " 'from',\n",
       " 'the',\n",
       " 'whole',\n",
       " 'disk',\n",
       " 'of',\n",
       " 'the',\n",
       " 'moon',\n",
       " 'varied',\n",
       " 'during',\n",
       " 'a',\n",
       " 'lunation',\n",
       " 'in',\n",
       " 'a',\n",
       " 'roughly',\n",
       " 'sinusoidal',\n",
       " 'fashion',\n",
       " ';',\n",
       " ';',\n",
       " 'that',\n",
       " 'the',\n",
       " 'amplitude',\n",
       " 'of',\n",
       " 'the',\n",
       " 'variation',\n",
       " 'was',\n",
       " 'considerably',\n",
       " 'less',\n",
       " 'than',\n",
       " 'the',\n",
       " 'amplitude',\n",
       " 'of',\n",
       " 'the',\n",
       " 'variation',\n",
       " 'in',\n",
       " 'the',\n",
       " 'infrared',\n",
       " 'emission',\n",
       " 'as',\n",
       " 'measured',\n",
       " 'by']"
      ]
     },
     "execution_count": 68,
     "metadata": {},
     "output_type": "execute_result"
    }
   ],
   "source": [
    "learned_words[400:600]"
   ]
  },
  {
   "cell_type": "code",
   "execution_count": 69,
   "metadata": {
    "collapsed": true
   },
   "outputs": [],
   "source": [
    "cur_category_words=brown.words(categories=\"humor\")"
   ]
  },
  {
   "cell_type": "code",
   "execution_count": 70,
   "metadata": {
    "collapsed": true
   },
   "outputs": [],
   "source": [
    "cur_category_words=list(cur_category_words)"
   ]
  },
  {
   "cell_type": "code",
   "execution_count": 71,
   "metadata": {},
   "outputs": [
    {
     "data": {
      "text/plain": [
       "['It',\n",
       " 'was',\n",
       " 'among',\n",
       " 'these',\n",
       " 'that',\n",
       " 'Hinkle',\n",
       " 'identified',\n",
       " 'a',\n",
       " 'photograph',\n",
       " 'of',\n",
       " 'Barco',\n",
       " '!',\n",
       " '!',\n",
       " 'For',\n",
       " 'it',\n",
       " 'seems',\n",
       " 'that',\n",
       " 'Barco',\n",
       " ',',\n",
       " 'fancying',\n",
       " 'himself',\n",
       " 'a',\n",
       " \"ladies'\",\n",
       " 'man',\n",
       " '(',\n",
       " 'and',\n",
       " 'why',\n",
       " 'not',\n",
       " ',',\n",
       " 'after',\n",
       " 'seven',\n",
       " 'marriages',\n",
       " '?',\n",
       " '?',\n",
       " ')',\n",
       " ',',\n",
       " 'had',\n",
       " 'listed',\n",
       " 'himself',\n",
       " 'for',\n",
       " 'Mormon',\n",
       " 'Beard',\n",
       " 'roles',\n",
       " 'at',\n",
       " 'the',\n",
       " 'instigation',\n",
       " 'of',\n",
       " 'his',\n",
       " 'fourth',\n",
       " 'murder',\n",
       " 'victim',\n",
       " 'who',\n",
       " 'had',\n",
       " 'said',\n",
       " ':',\n",
       " '``',\n",
       " 'With',\n",
       " 'your',\n",
       " 'beard',\n",
       " ',',\n",
       " 'dear',\n",
       " ',',\n",
       " 'you',\n",
       " 'ought',\n",
       " 'to',\n",
       " 'be',\n",
       " 'in',\n",
       " 'movies',\n",
       " \"''\",\n",
       " '!',\n",
       " '!',\n",
       " 'Mills',\n",
       " 'secured',\n",
       " \"Barco's\",\n",
       " 'photograph',\n",
       " 'from',\n",
       " 'the',\n",
       " 'gentleman',\n",
       " 'in',\n",
       " 'charge',\n",
       " ',',\n",
       " 'rushed',\n",
       " 'to',\n",
       " 'the',\n",
       " 'Hollywood',\n",
       " 'police',\n",
       " 'station',\n",
       " 'to',\n",
       " 'report',\n",
       " 'the',\n",
       " 'theft',\n",
       " ',',\n",
       " 'and',\n",
       " 'less',\n",
       " 'than',\n",
       " 'five',\n",
       " 'minutes',\n",
       " 'later',\n",
       " ',',\n",
       " 'detectives',\n",
       " 'with',\n",
       " 'his',\n",
       " 'picture',\n",
       " 'in',\n",
       " 'hand',\n",
       " 'were',\n",
       " 'on',\n",
       " 'the',\n",
       " 'trail',\n",
       " 'of',\n",
       " 'Cal',\n",
       " 'Barco',\n",
       " '.',\n",
       " 'On',\n",
       " 'their',\n",
       " 'way',\n",
       " ',',\n",
       " 'they',\n",
       " 'stopped',\n",
       " 'at',\n",
       " 'every',\n",
       " 'gas',\n",
       " 'station',\n",
       " 'along',\n",
       " 'the',\n",
       " 'main',\n",
       " 'boulevards',\n",
       " 'to',\n",
       " 'question',\n",
       " 'the',\n",
       " 'attendants',\n",
       " '.',\n",
       " 'Finally',\n",
       " ',',\n",
       " 'at',\n",
       " 'Ye',\n",
       " 'Olde',\n",
       " 'Gasse',\n",
       " 'Filling',\n",
       " 'Station',\n",
       " 'on',\n",
       " 'Avocado',\n",
       " 'Avenue',\n",
       " ',',\n",
       " 'they',\n",
       " 'learned',\n",
       " 'that',\n",
       " 'their',\n",
       " 'man',\n",
       " ',',\n",
       " 'having',\n",
       " 'paused',\n",
       " 'to',\n",
       " 'get',\n",
       " 'oil',\n",
       " 'for',\n",
       " 'his',\n",
       " 'car',\n",
       " ',',\n",
       " 'had',\n",
       " 'asked',\n",
       " 'about',\n",
       " 'the',\n",
       " 'route',\n",
       " 'to',\n",
       " 'San',\n",
       " 'Diego',\n",
       " '.',\n",
       " 'They',\n",
       " 'headed',\n",
       " 'in',\n",
       " 'that',\n",
       " 'direction',\n",
       " 'and',\n",
       " ',',\n",
       " 'at',\n",
       " 'San',\n",
       " 'Juan',\n",
       " 'Capistrano',\n",
       " 'By-the-Sea',\n",
       " 'came',\n",
       " 'upon',\n",
       " 'Barco',\n",
       " 'sitting',\n",
       " 'in',\n",
       " 'the',\n",
       " 'quaint',\n",
       " 'old',\n",
       " 'Spanish',\n",
       " 'Mission',\n",
       " 'Drive-in',\n",
       " ',',\n",
       " 'eating',\n",
       " 'a',\n",
       " 'hot',\n",
       " 'tamale',\n",
       " '.',\n",
       " 'At',\n",
       " 'the',\n",
       " 'moment']"
      ]
     },
     "execution_count": 71,
     "metadata": {},
     "output_type": "execute_result"
    }
   ],
   "source": [
    "cur_category_words[:200]"
   ]
  },
  {
   "cell_type": "code",
   "execution_count": 74,
   "metadata": {},
   "outputs": [],
   "source": [
    "from nltk.corpus import stopwords"
   ]
  },
  {
   "cell_type": "code",
   "execution_count": 75,
   "metadata": {},
   "outputs": [
    {
     "data": {
      "text/plain": [
       "<WordListCorpusReader in '.../corpora/stopwords' (not loaded yet)>"
      ]
     },
     "execution_count": 75,
     "metadata": {},
     "output_type": "execute_result"
    }
   ],
   "source": [
    "stopwords"
   ]
  },
  {
   "cell_type": "code",
   "execution_count": 81,
   "metadata": {},
   "outputs": [],
   "source": [
    "from nltk.corpus import stopwords"
   ]
  },
  {
   "cell_type": "code",
   "execution_count": 82,
   "metadata": {
    "collapsed": true
   },
   "outputs": [],
   "source": [
    "en_stopwords=stopwords.words('english')"
   ]
  },
  {
   "cell_type": "code",
   "execution_count": 83,
   "metadata": {},
   "outputs": [
    {
     "data": {
      "text/plain": [
       "['i',\n",
       " 'me',\n",
       " 'my',\n",
       " 'myself',\n",
       " 'we',\n",
       " 'our',\n",
       " 'ours',\n",
       " 'ourselves',\n",
       " 'you',\n",
       " \"you're\",\n",
       " \"you've\",\n",
       " \"you'll\",\n",
       " \"you'd\",\n",
       " 'your',\n",
       " 'yours',\n",
       " 'yourself',\n",
       " 'yourselves',\n",
       " 'he',\n",
       " 'him',\n",
       " 'his',\n",
       " 'himself',\n",
       " 'she',\n",
       " \"she's\",\n",
       " 'her',\n",
       " 'hers',\n",
       " 'herself',\n",
       " 'it',\n",
       " \"it's\",\n",
       " 'its',\n",
       " 'itself',\n",
       " 'they',\n",
       " 'them',\n",
       " 'their',\n",
       " 'theirs',\n",
       " 'themselves',\n",
       " 'what',\n",
       " 'which',\n",
       " 'who',\n",
       " 'whom',\n",
       " 'this',\n",
       " 'that',\n",
       " \"that'll\",\n",
       " 'these',\n",
       " 'those',\n",
       " 'am',\n",
       " 'is',\n",
       " 'are',\n",
       " 'was',\n",
       " 'were',\n",
       " 'be',\n",
       " 'been',\n",
       " 'being',\n",
       " 'have',\n",
       " 'has',\n",
       " 'had',\n",
       " 'having',\n",
       " 'do',\n",
       " 'does',\n",
       " 'did',\n",
       " 'doing',\n",
       " 'a',\n",
       " 'an',\n",
       " 'the',\n",
       " 'and',\n",
       " 'but',\n",
       " 'if',\n",
       " 'or',\n",
       " 'because',\n",
       " 'as',\n",
       " 'until',\n",
       " 'while',\n",
       " 'of',\n",
       " 'at',\n",
       " 'by',\n",
       " 'for',\n",
       " 'with',\n",
       " 'about',\n",
       " 'against',\n",
       " 'between',\n",
       " 'into',\n",
       " 'through',\n",
       " 'during',\n",
       " 'before',\n",
       " 'after',\n",
       " 'above',\n",
       " 'below',\n",
       " 'to',\n",
       " 'from',\n",
       " 'up',\n",
       " 'down',\n",
       " 'in',\n",
       " 'out',\n",
       " 'on',\n",
       " 'off',\n",
       " 'over',\n",
       " 'under',\n",
       " 'again',\n",
       " 'further',\n",
       " 'then',\n",
       " 'once',\n",
       " 'here',\n",
       " 'there',\n",
       " 'when',\n",
       " 'where',\n",
       " 'why',\n",
       " 'how',\n",
       " 'all',\n",
       " 'any',\n",
       " 'both',\n",
       " 'each',\n",
       " 'few',\n",
       " 'more',\n",
       " 'most',\n",
       " 'other',\n",
       " 'some',\n",
       " 'such',\n",
       " 'no',\n",
       " 'nor',\n",
       " 'not',\n",
       " 'only',\n",
       " 'own',\n",
       " 'same',\n",
       " 'so',\n",
       " 'than',\n",
       " 'too',\n",
       " 'very',\n",
       " 's',\n",
       " 't',\n",
       " 'can',\n",
       " 'will',\n",
       " 'just',\n",
       " 'don',\n",
       " \"don't\",\n",
       " 'should',\n",
       " \"should've\",\n",
       " 'now',\n",
       " 'd',\n",
       " 'll',\n",
       " 'm',\n",
       " 'o',\n",
       " 're',\n",
       " 've',\n",
       " 'y',\n",
       " 'ain',\n",
       " 'aren',\n",
       " \"aren't\",\n",
       " 'couldn',\n",
       " \"couldn't\",\n",
       " 'didn',\n",
       " \"didn't\",\n",
       " 'doesn',\n",
       " \"doesn't\",\n",
       " 'hadn',\n",
       " \"hadn't\",\n",
       " 'hasn',\n",
       " \"hasn't\",\n",
       " 'haven',\n",
       " \"haven't\",\n",
       " 'isn',\n",
       " \"isn't\",\n",
       " 'ma',\n",
       " 'mightn',\n",
       " \"mightn't\",\n",
       " 'mustn',\n",
       " \"mustn't\",\n",
       " 'needn',\n",
       " \"needn't\",\n",
       " 'shan',\n",
       " \"shan't\",\n",
       " 'shouldn',\n",
       " \"shouldn't\",\n",
       " 'wasn',\n",
       " \"wasn't\",\n",
       " 'weren',\n",
       " \"weren't\",\n",
       " 'won',\n",
       " \"won't\",\n",
       " 'wouldn',\n",
       " \"wouldn't\"]"
      ]
     },
     "execution_count": 83,
     "metadata": {},
     "output_type": "execute_result"
    }
   ],
   "source": [
    "list(en_stopwords)"
   ]
  },
  {
   "cell_type": "code",
   "execution_count": 88,
   "metadata": {
    "collapsed": true
   },
   "outputs": [],
   "source": [
    "news_words=[v.lower() for v in brown.words(categories=\"news\")]\n",
    "unique_words=list(set(news_words))"
   ]
  },
  {
   "cell_type": "code",
   "execution_count": 99,
   "metadata": {
    "scrolled": true
   },
   "outputs": [
    {
     "name": "stdout",
     "output_type": "stream",
     "text": [
      "12967\n"
     ]
    }
   ],
   "source": [
    "words_counts=[]\n",
    "for uw in unique_words:\n",
    "    if not uw in en_stopwords:\n",
    "        uw_count=news_words.count(uw)\n",
    "        words_counts.append((uw_count,uw))\n",
    "print(len(words_counts))\n",
    "    "
   ]
  },
  {
   "cell_type": "code",
   "execution_count": 102,
   "metadata": {},
   "outputs": [],
   "source": [
    "sorted_words_counts=sorted(words_counts, reverse=True)"
   ]
  },
  {
   "cell_type": "code",
   "execution_count": 108,
   "metadata": {},
   "outputs": [
    {
     "name": "stdout",
     "output_type": "stream",
     "text": [
      "(406, 'said')\n",
      "(253, 'mrs.')\n",
      "(246, 'would')\n",
      "(241, 'new')\n",
      "(213, 'one')\n",
      "(177, 'last')\n",
      "(174, 'two')\n",
      "(170, 'mr.')\n",
      "(158, 'first')\n",
      "(153, 'state')\n",
      "(142, 'year')\n",
      "(142, 'president')\n",
      "(132, 'home')\n",
      "(129, 'also')\n",
      "(107, 'made')\n",
      "(103, 'time')\n",
      "(102, 'years')\n",
      "(101, 'three')\n",
      "(97, 'house')\n",
      "(94, 'week')\n",
      "(93, 'may')\n",
      "(93, 'city')\n",
      "(87, 'school')\n",
      "(87, 'could')\n",
      "(82, 'four')\n",
      "(76, 'day')\n",
      "(75, 'committee')\n",
      "(74, 'members')\n",
      "(74, 'man')\n",
      "(73, 'government')\n",
      "(73, 'back')\n",
      "(72, 'national')\n",
      "(72, 'many')\n",
      "(70, 'university')\n",
      "(69, 'bill')\n",
      "(68, 'high')\n",
      "(68, 'get')\n",
      "(67, 'work')\n",
      "(67, 'since')\n",
      "(67, 'american')\n",
      "(66, 'program')\n",
      "(66, 'kennedy')\n",
      "(65, 'night')\n",
      "(65, 'john')\n",
      "(64, 'board')\n",
      "(62, 'meeting')\n",
      "(62, 'administration')\n",
      "(61, 'per')\n",
      "(61, 'even')\n",
      "(61, 'county')\n"
     ]
    }
   ],
   "source": [
    "from string import punctuation\n",
    "filtered=[v for v in sorted_words_counts if not v[1][0] in punctuation]\n",
    "#print(sorted_words_counts[:10])\n",
    "for f in filtered[:50]:\n",
    "    print(f)"
   ]
  },
  {
   "cell_type": "code",
   "execution_count": 113,
   "metadata": {},
   "outputs": [
    {
     "data": {
      "text/plain": [
       "[(38, '!'),\n",
       " (5, '$1'),\n",
       " (2, '$1,000'),\n",
       " (1, '$1,000,000,000'),\n",
       " (3, '$1,500'),\n",
       " (1, '$1,500,000'),\n",
       " (1, '$1,600'),\n",
       " (1, '$1,800'),\n",
       " (2, '$1.1'),\n",
       " (1, '$1.4')]"
      ]
     },
     "execution_count": 113,
     "metadata": {},
     "output_type": "execute_result"
    }
   ],
   "source": [
    "#\n",
    "sorted_words_counts=sorted(words_counts, key=lambda x:x[0])\n",
    "sorted_words_counts[:10]\n",
    "\n",
    "sorted_words_counts=sorted(words_counts, key=lambda x:-x[0])\n",
    "sorted_words_counts[:10]\n",
    "\n",
    "\n",
    "sorted_words_counts=sorted(words_counts, key=lambda x:x[1])\n",
    "sorted_words_counts[:10]"
   ]
  },
  {
   "cell_type": "code",
   "execution_count": 114,
   "metadata": {},
   "outputs": [
    {
     "name": "stdout",
     "output_type": "stream",
     "text": [
      "(88, 'said')\n",
      "(77, 'one')\n",
      "(56, 'would')\n",
      "(44, 'time')\n",
      "(39, 'even')\n",
      "(36, 'mr.')\n",
      "(36, 'like')\n",
      "(33, 'could')\n",
      "(28, 'way')\n",
      "(28, 'things')\n",
      "(26, 'two')\n",
      "(25, 'little')\n",
      "(25, 'get')\n",
      "(24, 'mother')\n",
      "(24, 'arlene')\n",
      "(23, 'us')\n",
      "(23, 'man')\n",
      "(23, 'made')\n",
      "(21, 'years')\n",
      "(21, 'day')\n",
      "(20, 'told')\n",
      "(20, 'people')\n",
      "(20, 'new')\n",
      "(20, 'never')\n",
      "(20, 'children')\n",
      "(19, 'say')\n",
      "(19, 'much')\n",
      "(19, 'letch')\n",
      "(19, 'asked')\n",
      "(18, 'room')\n",
      "(18, 'long')\n",
      "(18, 'barco')\n",
      "(18, 'another')\n",
      "(17, 'old')\n",
      "(17, 'moreland')\n",
      "(17, 'many')\n",
      "(17, 'last')\n",
      "(17, 'home')\n",
      "(17, 'funny')\n",
      "(17, 'always')\n",
      "(16, 'something')\n",
      "(16, 'know')\n",
      "(16, 'back')\n",
      "(15, 'went')\n",
      "(15, 'well')\n",
      "(15, 'seemed')\n",
      "(15, 'house')\n",
      "(15, 'first')\n",
      "(15, 'comedy')\n",
      "(15, 'called')\n"
     ]
    }
   ],
   "source": [
    "news_words=[v.lower() for v in brown.words(categories=\"humor\")]\n",
    "unique_words=list(set(news_words))\n",
    "words_counts=[]\n",
    "for uw in unique_words:\n",
    "    if not uw in en_stopwords:\n",
    "        uw_count=news_words.count(uw)\n",
    "        words_counts.append((uw_count,uw))\n",
    "sorted_words_counts=sorted(words_counts, reverse=True)\n",
    "filtered=[v for v in sorted_words_counts if not v[1][0] in punctuation]\n",
    "\n",
    "for f in filtered[:50]:\n",
    "    print(f)"
   ]
  },
  {
   "cell_type": "code",
   "execution_count": 115,
   "metadata": {},
   "outputs": [
    {
     "name": "stdout",
     "output_type": "stream",
     "text": [
      "(136, 'god')\n",
      "(104, 'one')\n",
      "(99, 'new')\n",
      "(94, 'world')\n",
      "(94, 'church')\n",
      "(79, 'may')\n",
      "(69, 'would')\n",
      "(68, 'man')\n",
      "(59, 'us')\n",
      "(59, 'spirit')\n",
      "(59, 'could')\n",
      "(59, 'christ')\n",
      "(57, 'also')\n",
      "(55, 'life')\n",
      "(54, 'must')\n",
      "(52, 'many')\n",
      "(50, 'members')\n",
      "(50, 'christian')\n",
      "(49, 'power')\n",
      "(49, 'even')\n",
      "(43, 'human')\n",
      "(43, 'faith')\n",
      "(42, 'men')\n",
      "(42, 'death')\n",
      "(39, 'say')\n",
      "(38, 'still')\n",
      "(38, 'good')\n",
      "(37, 'years')\n",
      "(37, 'people')\n",
      "(37, 'membership')\n",
      "(37, 'england')\n",
      "(36, 'see')\n",
      "(35, 'time')\n",
      "(34, 'yet')\n",
      "(34, 'catholic')\n",
      "(33, 'way')\n",
      "(33, 'number')\n",
      "(33, 'jesus')\n",
      "(33, 'churches')\n",
      "(33, 'born')\n",
      "(30, 'sin')\n",
      "(30, 'know')\n",
      "(30, 'john')\n",
      "(30, 'action')\n",
      "(30, '1')\n",
      "(29, 'much')\n",
      "(29, 'first')\n",
      "(28, 'st.')\n",
      "(28, 'real')\n",
      "(28, 'parker')\n"
     ]
    }
   ],
   "source": [
    "news_words=[v.lower() for v in brown.words(categories=\"religion\")]\n",
    "unique_words=list(set(news_words))\n",
    "words_counts=[]\n",
    "for uw in unique_words:\n",
    "    if not uw in en_stopwords:\n",
    "        uw_count=news_words.count(uw)\n",
    "        words_counts.append((uw_count,uw))\n",
    "sorted_words_counts=sorted(words_counts, reverse=True)\n",
    "filtered=[v for v in sorted_words_counts if not v[1][0] in punctuation]\n",
    "\n",
    "for f in filtered[:50]:\n",
    "    print(f)"
   ]
  },
  {
   "cell_type": "code",
   "execution_count": null,
   "metadata": {
    "collapsed": true
   },
   "outputs": [],
   "source": []
  }
 ],
 "metadata": {
  "kernelspec": {
   "display_name": "Python 3",
   "language": "python",
   "name": "python3"
  },
  "language_info": {
   "codemirror_mode": {
    "name": "ipython",
    "version": 3
   },
   "file_extension": ".py",
   "mimetype": "text/x-python",
   "name": "python",
   "nbconvert_exporter": "python",
   "pygments_lexer": "ipython3",
   "version": "3.6.1"
  }
 },
 "nbformat": 4,
 "nbformat_minor": 2
}
