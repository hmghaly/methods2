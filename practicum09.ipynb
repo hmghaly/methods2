{
 "cells": [
  {
   "cell_type": "code",
   "execution_count": 1,
   "metadata": {
    "collapsed": true
   },
   "outputs": [],
   "source": [
    "#Chapter 3.6 and exercises 6, 7, 13. If you'd like, you can add other exercises for regular expressions.\n"
   ]
  },
  {
   "cell_type": "code",
   "execution_count": 2,
   "metadata": {
    "collapsed": true
   },
   "outputs": [],
   "source": [
    "import re"
   ]
  },
  {
   "cell_type": "code",
   "execution_count": 4,
   "metadata": {},
   "outputs": [
    {
     "name": "stdout",
     "output_type": "stream",
     "text": [
      "['hi', 'hi']\n"
     ]
    }
   ],
   "source": [
    "text=\"hi my name is ___, hiiiiii her name is heidi !\"\n",
    "found=re.findall(\"hi\",text)\n",
    "print(found)\n"
   ]
  },
  {
   "cell_type": "code",
   "execution_count": 5,
   "metadata": {},
   "outputs": [
    {
     "name": "stdout",
     "output_type": "stream",
     "text": [
      "['hi', 'hiiiiii', 'h', 'h']\n"
     ]
    }
   ],
   "source": [
    "found=re.findall(\"hi*\",text)\n",
    "print(found)\n"
   ]
  },
  {
   "cell_type": "code",
   "execution_count": 6,
   "metadata": {},
   "outputs": [
    {
     "name": "stdout",
     "output_type": "stream",
     "text": [
      "['hi', 'hiiiiii']\n"
     ]
    }
   ],
   "source": [
    "found=re.findall(\"hi+\",text)\n",
    "print(found)"
   ]
  },
  {
   "cell_type": "code",
   "execution_count": 7,
   "metadata": {},
   "outputs": [
    {
     "name": "stdout",
     "output_type": "stream",
     "text": [
      "['hi', 'hiii', 'pi', 'piiiii', 'pi', 'hi']\n"
     ]
    }
   ],
   "source": [
    "text=\"hi hiii pi piiiii precious pious hidden\"\n",
    "found=re.findall(\"[hp]i+\",text)\n",
    "print(found)"
   ]
  },
  {
   "cell_type": "code",
   "execution_count": 8,
   "metadata": {},
   "outputs": [
    {
     "name": "stdout",
     "output_type": "stream",
     "text": [
      "['hi', 'hiii', 'pi', 'piiiii']\n"
     ]
    }
   ],
   "source": [
    "found=re.findall(r\"[hp]i+\\b\",text)\n",
    "print(found)"
   ]
  },
  {
   "cell_type": "code",
   "execution_count": 10,
   "metadata": {},
   "outputs": [
    {
     "name": "stdout",
     "output_type": "stream",
     "text": [
      "['en']\n"
     ]
    }
   ],
   "source": [
    "found=re.findall(r\"..$\",text)\n",
    "print(found)"
   ]
  },
  {
   "cell_type": "code",
   "execution_count": 11,
   "metadata": {},
   "outputs": [
    {
     "name": "stdout",
     "output_type": "stream",
     "text": [
      "['hi']\n"
     ]
    }
   ],
   "source": [
    "found=re.findall(r\"^..\",text)\n",
    "print(found)"
   ]
  },
  {
   "cell_type": "code",
   "execution_count": 15,
   "metadata": {},
   "outputs": [
    {
     "name": "stdout",
     "output_type": "stream",
     "text": [
      "['h', 'e', 'r', 'e', 'w', 'e', 'g', 'o', 'i', 'n', 't', 'o', 't', 'h', 'e', 'n', 'e', 'w', 't', 'h', 'i', 'n', 'g', '1', '2', '3', 'a', 'b', 'c', '1', '2', '3', 'U', 'P', 'P', 'E', 'R', 'a', 'd', 's', 'a', 'd', 'a', 's']\n"
     ]
    }
   ],
   "source": [
    "text=\"here we go into the new thing 123 abc123 UPPER ... ??? adsadas \"\n",
    "tokens=re.findall(\"\\w\",text)\n",
    "print(tokens)"
   ]
  },
  {
   "cell_type": "code",
   "execution_count": 16,
   "metadata": {},
   "outputs": [
    {
     "name": "stdout",
     "output_type": "stream",
     "text": [
      "['here', 'we', 'go', 'into', 'the', 'new', 'thing', '123', 'abc123', 'UPPER', 'adsadas']\n"
     ]
    }
   ],
   "source": [
    "tokens=re.findall(\"\\w+\",text)\n",
    "print(tokens)"
   ]
  },
  {
   "cell_type": "code",
   "execution_count": 17,
   "metadata": {
    "collapsed": true
   },
   "outputs": [],
   "source": [
    "text=\"here we go! into the new thing, 123 abc123!! UPPER ... ??? adsadas \""
   ]
  },
  {
   "cell_type": "code",
   "execution_count": 18,
   "metadata": {},
   "outputs": [
    {
     "name": "stdout",
     "output_type": "stream",
     "text": [
      "['here', 'we', 'go', 'into', 'the', 'new', 'thing', '123', 'abc123', 'UPPER', 'adsadas']\n"
     ]
    }
   ],
   "source": [
    "tokens=re.findall(\"\\w+\",text)\n",
    "print(tokens)"
   ]
  },
  {
   "cell_type": "code",
   "execution_count": 19,
   "metadata": {
    "collapsed": true
   },
   "outputs": [],
   "source": [
    "text=\"года — 20 августа 1988 года) — вооружённый конфликт между Ираком и Ираном. Ирано-иракская война явилась последним \""
   ]
  },
  {
   "cell_type": "code",
   "execution_count": 21,
   "metadata": {},
   "outputs": [
    {
     "name": "stdout",
     "output_type": "stream",
     "text": [
      "['года', '20', 'августа', '1988', 'года', 'вооружённый', 'конфликт', 'между', 'Ираком', 'и', 'Ираном', 'Ирано', 'иракская', 'война', 'явилась', 'последним']\n"
     ]
    }
   ],
   "source": [
    "tokens=re.findall(\"\\w+\",text)\n",
    "print(tokens)"
   ]
  },
  {
   "cell_type": "code",
   "execution_count": 23,
   "metadata": {},
   "outputs": [
    {
     "name": "stdout",
     "output_type": "stream",
     "text": [
      "['here', 'we', 'go', 'into', 'the', 'new', 'thing', '123', 'abc123', 'UPPER', 'adsadas']\n"
     ]
    }
   ],
   "source": [
    "text=\"here we go into the new thing 123 abc123 UPPER ... ??? adsadas \"\n",
    "tokens=re.findall(\"\\w+\",text)\n",
    "print(tokens)"
   ]
  },
  {
   "cell_type": "code",
   "execution_count": 24,
   "metadata": {},
   "outputs": [
    {
     "name": "stdout",
     "output_type": "stream",
     "text": [
      "here ['e']\n",
      "we ['e']\n",
      "go ['o']\n",
      "into ['o']\n",
      "the ['e']\n",
      "new ['w']\n",
      "thing ['g']\n",
      "123 ['3']\n",
      "abc123 ['3']\n",
      "UPPER ['R']\n",
      "adsadas ['s']\n"
     ]
    }
   ],
   "source": [
    "for t in tokens:\n",
    "    last_char=re.findall(\".$\",t)\n",
    "    print(t, last_char)"
   ]
  },
  {
   "cell_type": "code",
   "execution_count": 25,
   "metadata": {},
   "outputs": [
    {
     "name": "stdout",
     "output_type": "stream",
     "text": [
      "['an', 'ABC', 'and', 'other', 'and', 'here', 'also', 'SOMETHING']\n"
     ]
    }
   ],
   "source": [
    "text=\"an ABC and other 123 and here also SOMETHING\"\n",
    "found=re.findall(\"[a-zA-Z]+\",text)\n",
    "print(found)"
   ]
  },
  {
   "cell_type": "code",
   "execution_count": 26,
   "metadata": {},
   "outputs": [
    {
     "name": "stdout",
     "output_type": "stream",
     "text": [
      "{an} {ABC} {and} {other} 123 {and} {here} {also} {SOMETHING}\n"
     ]
    }
   ],
   "source": [
    "import nltk\n",
    "nltk.re_show(\"[a-zA-Z]+\",text)"
   ]
  },
  {
   "cell_type": "code",
   "execution_count": 27,
   "metadata": {},
   "outputs": [
    {
     "name": "stdout",
     "output_type": "stream",
     "text": [
      "{a}{n} {A}{B}{C} {a}{n}{d} {o}{t}{h}{e}{r} 123 {a}{n}{d} {h}{e}{r}{e} {a}{l}{s}{o} {S}{O}{M}{E}{T}{H}{I}{N}{G}\n"
     ]
    }
   ],
   "source": [
    "nltk.re_show(\"[a-zA-Z]\",text)"
   ]
  },
  {
   "cell_type": "code",
   "execution_count": 28,
   "metadata": {},
   "outputs": [
    {
     "name": "stdout",
     "output_type": "stream",
     "text": [
      "{an} ABC {and} {other} 123 {and} {here} {also} SOMETHING\n"
     ]
    }
   ],
   "source": [
    "nltk.re_show(\"[a-z]+\",text)"
   ]
  },
  {
   "cell_type": "code",
   "execution_count": 29,
   "metadata": {},
   "outputs": [
    {
     "name": "stdout",
     "output_type": "stream",
     "text": [
      "{an} {ABC} {and} {other} {123} {and} {here} {also} {SOMETHING}\n"
     ]
    }
   ],
   "source": [
    "nltk.re_show(\"[a-zA-Z0-9]+\",text)"
   ]
  },
  {
   "cell_type": "code",
   "execution_count": 30,
   "metadata": {},
   "outputs": [
    {
     "name": "stdout",
     "output_type": "stream",
     "text": [
      "{an} {ABC} {and} {other} {123} {and} {here} {also} {SOMETHING}\n"
     ]
    }
   ],
   "source": [
    "nltk.re_show(\"\\w+\",text)"
   ]
  },
  {
   "cell_type": "code",
   "execution_count": 31,
   "metadata": {},
   "outputs": [
    {
     "name": "stdout",
     "output_type": "stream",
     "text": [
      "an{ }ABC{ }and{ }other{ }123{ }and{ }here{ }also{ }SOMETHING\n"
     ]
    }
   ],
   "source": [
    "nltk.re_show(\"\\W+\",text)"
   ]
  },
  {
   "cell_type": "code",
   "execution_count": 32,
   "metadata": {
    "collapsed": true
   },
   "outputs": [],
   "source": [
    "text=\"an ABC! and, other 123, and here also SOMETHING!\""
   ]
  },
  {
   "cell_type": "code",
   "execution_count": 33,
   "metadata": {},
   "outputs": [
    {
     "name": "stdout",
     "output_type": "stream",
     "text": [
      "an{ }ABC{! }and{, }other{ }123{, }and{ }here{ }also{ }SOMETHING{!}\n"
     ]
    }
   ],
   "source": [
    "nltk.re_show(\"\\W+\",text)"
   ]
  },
  {
   "cell_type": "code",
   "execution_count": 34,
   "metadata": {},
   "outputs": [
    {
     "name": "stdout",
     "output_type": "stream",
     "text": [
      "an{ }ABC{!}{ }and{,}{ }other{ }123{,}{ }and{ }here{ }also{ }SOMETHING{!}\n"
     ]
    }
   ],
   "source": [
    "nltk.re_show(\"\\W\",text)"
   ]
  },
  {
   "cell_type": "code",
   "execution_count": 37,
   "metadata": {},
   "outputs": [
    {
     "name": "stdout",
     "output_type": "stream",
     "text": [
      "{I} don't know! {Maybe} {A} and {B} asked {Him}\n"
     ]
    }
   ],
   "source": [
    "text=\"I don't know! Maybe A and B asked Him\"\n",
    "pat=\"[A-Z][a-z]*\"\n",
    "nltk.re_show(pat,text)"
   ]
  },
  {
   "cell_type": "code",
   "execution_count": 41,
   "metadata": {},
   "outputs": [
    {
     "name": "stdout",
     "output_type": "stream",
     "text": [
      "{pat} {peet} {pout} {put} pt pt0 a{pit} {pit}a bit bite beet {paeet} {peeet} {pooot}\n"
     ]
    }
   ],
   "source": [
    "text=\"pat peet pout put pt pt0 apit pita bit bite beet paeet peeet pooot\"\n",
    "pat=\"p[aeiou]{1,3}t\"\n",
    "nltk.re_show(pat,text)\n"
   ]
  },
  {
   "cell_type": "code",
   "execution_count": 45,
   "metadata": {},
   "outputs": [
    {
     "name": "stdout",
     "output_type": "stream",
     "text": [
      "{1.2321} adsad.adsa -{2132.12321} {111} -{121} -{0.2343}\n",
      "['.2321', '.12321', '', '', '.2343']\n"
     ]
    }
   ],
   "source": [
    "text=\"1.2321 adsad.adsa -2132.12321 111 -121 -0.2343\"\n",
    "pat=r'\\d+(\\.\\d+)?'\n",
    "\n",
    "nltk.re_show(pat,text)\n",
    "print(re.findall(pat,text))"
   ]
  },
  {
   "cell_type": "code",
   "execution_count": 44,
   "metadata": {},
   "outputs": [
    {
     "name": "stdout",
     "output_type": "stream",
     "text": [
      "['abc', 'hello', 'aa']\n"
     ]
    }
   ],
   "source": [
    "text=\"___abc__ __hello__ _aa_\"\n",
    "found=re.findall(\"_([a-zA-Z]+)_\",text)\n",
    "print(found)\n"
   ]
  },
  {
   "cell_type": "code",
   "execution_count": 48,
   "metadata": {},
   "outputs": [
    {
     "data": {
      "text/plain": [
       "['pa', 'pa', 'pa', 'pa', 'pa']"
      ]
     },
     "execution_count": 48,
     "metadata": {},
     "output_type": "execute_result"
    }
   ],
   "source": [
    "text=\"pat peet pout put pt pt0 apit pita bit bite beet paeet peeet pooot apa papa\"\n",
    "re.findall(\"pa\",text)"
   ]
  },
  {
   "cell_type": "code",
   "execution_count": 49,
   "metadata": {},
   "outputs": [
    {
     "data": {
      "text/plain": [
       "[]"
      ]
     },
     "execution_count": 49,
     "metadata": {},
     "output_type": "execute_result"
    }
   ],
   "source": [
    "re.findall(\"\\bpa\",text)"
   ]
  },
  {
   "cell_type": "code",
   "execution_count": 50,
   "metadata": {},
   "outputs": [
    {
     "data": {
      "text/plain": [
       "['pa', 'pa', 'pa']"
      ]
     },
     "execution_count": 50,
     "metadata": {},
     "output_type": "execute_result"
    }
   ],
   "source": [
    "re.findall(r\"\\bpa\",text)"
   ]
  },
  {
   "cell_type": "code",
   "execution_count": 54,
   "metadata": {},
   "outputs": [
    {
     "name": "stdout",
     "output_type": "stream",
     "text": [
      "{cat} {pat} {catmat} {sit} {bit}e{} {bitter} {mitten} {mar}a{mar}a{}t{} {marpatcat}\n",
      "['cat', '', 'pat', '', 'mat', '', 'sit', '', 'bit', '', '', 'ter', '', 'ten', '', 'mar', '', 'mar', '', '', '', 'cat', '']\n"
     ]
    }
   ],
   "source": [
    "text=\"cat pat catmat sit bite bitter mitten maramarat marpatcat\"\n",
    "pat=\"([^aeiou][aeiou][^aeiou])*\"\n",
    "nltk.re_show(pat,text)\n",
    "print(re.findall(pat,text))"
   ]
  },
  {
   "cell_type": "code",
   "execution_count": 56,
   "metadata": {},
   "outputs": [
    {
     "name": "stdout",
     "output_type": "stream",
     "text": [
      "{p} taaaa ruuuuu biiiii s a\n"
     ]
    }
   ],
   "source": [
    "text=\"p taaaa ruuuuu biiiii s a\"\n",
    "pat=\"[^aeiou][aeiou]*\"\n",
    "nltk.re_show(pat,text)"
   ]
  },
  {
   "cell_type": "code",
   "execution_count": 63,
   "metadata": {},
   "outputs": [
    {
     "name": "stdout",
     "output_type": "stream",
     "text": [
      "['O', 'a', 'i', 'I', 'o', 'e', 'u', 'e', 'i', 'i', 'e']\n"
     ]
    }
   ],
   "source": [
    "text=\"Olaf sings I love summer in winter\" #find words that starts in vowels\n",
    "found=re.findall(\"(?i)[aeiou]\",text)\n",
    "print(found)"
   ]
  },
  {
   "cell_type": "code",
   "execution_count": 65,
   "metadata": {},
   "outputs": [
    {
     "name": "stdout",
     "output_type": "stream",
     "text": [
      "['a', 'a', 'a', 'an', 'a', 'a', 'an', 'a', 'an', 'a', 'a', 'an']\n"
     ]
    }
   ],
   "source": [
    "#A single determiner (assume that a, an, and the are the only determiners).\n",
    "text=\"I have a cat, and the cat has an interesting hat, and a bag, an egg \"\n",
    "pat=\"[a][n]?\"\n",
    "found=re.findall(pat,text)\n",
    "print(found)"
   ]
  },
  {
   "cell_type": "code",
   "execution_count": 66,
   "metadata": {},
   "outputs": [
    {
     "name": "stdout",
     "output_type": "stream",
     "text": [
      "['a', 'an', 'a', 'an']\n"
     ]
    }
   ],
   "source": [
    "pat=r\"\\b[a][n]?\\b\"\n",
    "found=re.findall(pat,text)\n",
    "print(found)"
   ]
  },
  {
   "cell_type": "code",
   "execution_count": 67,
   "metadata": {},
   "outputs": [
    {
     "name": "stdout",
     "output_type": "stream",
     "text": [
      "['a', 'the', 'an', 'a', 'an']\n"
     ]
    }
   ],
   "source": [
    "pat=r\"\\b[at][nh]?[e]?\\b\"\n",
    "found=re.findall(pat,text)\n",
    "print(found)"
   ]
  },
  {
   "cell_type": "code",
   "execution_count": 68,
   "metadata": {},
   "outputs": [
    {
     "name": "stdout",
     "output_type": "stream",
     "text": [
      "['a', 'ah', 'the', 'ane', 'an', 'a', 'an']\n"
     ]
    }
   ],
   "source": [
    "text=\"I have a cat ah, and the ane cat has an interesting hat, and a bag, an egg \"\n",
    "pat=r\"\\b[at][nh]?[e]?\\b\"\n",
    "found=re.findall(pat,text)\n",
    "print(found)"
   ]
  },
  {
   "cell_type": "code",
   "execution_count": 71,
   "metadata": {},
   "outputs": [
    {
     "name": "stdout",
     "output_type": "stream",
     "text": [
      "['a', 'the', 'an', 'a', 'an']\n"
     ]
    }
   ],
   "source": [
    "text=\"I have a cat ah, and the ane there cat has an interesting hat, and a bag, an egg \"\n",
    "pat=r\"\\ba\\b|\\ban\\b|\\bthe\\b\"\n",
    "found=re.findall(pat,text)\n",
    "print(found)"
   ]
  },
  {
   "cell_type": "code",
   "execution_count": 73,
   "metadata": {},
   "outputs": [
    {
     "name": "stdout",
     "output_type": "stream",
     "text": [
      "['12+12312-12', '12312*12312', '122*232']\n"
     ]
    }
   ],
   "source": [
    "#An arithmetic expression using integers, addition, and multiplication, \n",
    "#such as 2*3+8.\n",
    "text=\"12+12312-12 12312*12312 122*232\"\n",
    "pat=\"[\\d\\+\\-\\*]+\"\n",
    "found=re.findall(pat,text)\n",
    "print(found)\n"
   ]
  },
  {
   "cell_type": "code",
   "execution_count": 74,
   "metadata": {},
   "outputs": [
    {
     "name": "stdout",
     "output_type": "stream",
     "text": [
      "['I', 'go', 'and', 'come', 'back', 'and', 'here', 'also', 'and', 'split']\n"
     ]
    }
   ],
   "source": [
    "sent=\"I go    and come back\\t and here also and split\"\n",
    "print(sent.split())"
   ]
  },
  {
   "cell_type": "code",
   "execution_count": 75,
   "metadata": {},
   "outputs": [
    {
     "name": "stdout",
     "output_type": "stream",
     "text": [
      "['I', 'go', '', '', '', 'and', 'come', 'back\\t', 'and', 'here', 'also', 'and', 'split']\n"
     ]
    }
   ],
   "source": [
    "print(sent.split(\" \"))"
   ]
  },
  {
   "cell_type": "code",
   "execution_count": 76,
   "metadata": {},
   "outputs": [
    {
     "name": "stdout",
     "output_type": "stream",
     "text": [
      "['I', 'go', 'and', 'come', 'back', 'and', 'here', 'also', 'and', 'split']\n"
     ]
    }
   ],
   "source": [
    "print(re.split(\"\\W+\",sent))"
   ]
  },
  {
   "cell_type": "code",
   "execution_count": 77,
   "metadata": {},
   "outputs": [
    {
     "name": "stdout",
     "output_type": "stream",
     "text": [
      "['I', 'go', '', '', '', 'and', 'come', 'back', '', 'and', 'here', 'also', 'and', 'split']\n"
     ]
    }
   ],
   "source": [
    "print(re.split(\"\\W\",sent))"
   ]
  },
  {
   "cell_type": "code",
   "execution_count": null,
   "metadata": {
    "collapsed": true
   },
   "outputs": [],
   "source": []
  }
 ],
 "metadata": {
  "kernelspec": {
   "display_name": "Python 3",
   "language": "python",
   "name": "python3"
  },
  "language_info": {
   "codemirror_mode": {
    "name": "ipython",
    "version": 3
   },
   "file_extension": ".py",
   "mimetype": "text/x-python",
   "name": "python",
   "nbconvert_exporter": "python",
   "pygments_lexer": "ipython3",
   "version": "3.6.1"
  }
 },
 "nbformat": 4,
 "nbformat_minor": 2
}
