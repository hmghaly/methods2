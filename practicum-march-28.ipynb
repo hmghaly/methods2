{
 "cells": [
  {
   "cell_type": "code",
   "execution_count": 1,
   "metadata": {
    "collapsed": true
   },
   "outputs": [],
   "source": [
    "from nltk.corpus import wordnet as wn"
   ]
  },
  {
   "cell_type": "code",
   "execution_count": 2,
   "metadata": {},
   "outputs": [
    {
     "data": {
      "text/plain": [
       "[Synset('car.n.01')]"
      ]
     },
     "execution_count": 2,
     "metadata": {},
     "output_type": "execute_result"
    }
   ],
   "source": [
    "wn.synsets('motorcar')"
   ]
  },
  {
   "cell_type": "code",
   "execution_count": 3,
   "metadata": {},
   "outputs": [
    {
     "data": {
      "text/plain": [
       "['car', 'auto', 'automobile', 'machine', 'motorcar']"
      ]
     },
     "execution_count": 3,
     "metadata": {},
     "output_type": "execute_result"
    }
   ],
   "source": [
    "wn.synset('car.n.01').lemma_names()"
   ]
  },
  {
   "cell_type": "code",
   "execution_count": 4,
   "metadata": {},
   "outputs": [
    {
     "data": {
      "text/plain": [
       "['cat', 'true_cat']"
      ]
     },
     "execution_count": 4,
     "metadata": {},
     "output_type": "execute_result"
    }
   ],
   "source": [
    "wn.synset('cat.n.01').lemma_names()"
   ]
  },
  {
   "cell_type": "code",
   "execution_count": 5,
   "metadata": {},
   "outputs": [
    {
     "data": {
      "text/plain": [
       "['dog', 'domestic_dog', 'Canis_familiaris']"
      ]
     },
     "execution_count": 5,
     "metadata": {},
     "output_type": "execute_result"
    }
   ],
   "source": [
    "wn.synset('dog.n.01').lemma_names()"
   ]
  },
  {
   "cell_type": "code",
   "execution_count": 6,
   "metadata": {},
   "outputs": [
    {
     "data": {
      "text/plain": [
       "['drum', 'membranophone', 'tympan']"
      ]
     },
     "execution_count": 6,
     "metadata": {},
     "output_type": "execute_result"
    }
   ],
   "source": [
    "wn.synset('drum.n.01').lemma_names()"
   ]
  },
  {
   "cell_type": "code",
   "execution_count": 7,
   "metadata": {},
   "outputs": [
    {
     "data": {
      "text/plain": [
       "['homo', 'man', 'human_being', 'human']"
      ]
     },
     "execution_count": 7,
     "metadata": {},
     "output_type": "execute_result"
    }
   ],
   "source": [
    "wn.synset('human.n.01').lemma_names()"
   ]
  },
  {
   "cell_type": "code",
   "execution_count": 8,
   "metadata": {},
   "outputs": [
    {
     "data": {
      "text/plain": [
       "'a motor vehicle with four wheels; usually propelled by an internal combustion engine'"
      ]
     },
     "execution_count": 8,
     "metadata": {},
     "output_type": "execute_result"
    }
   ],
   "source": [
    "wn.synset('car.n.01').definition()"
   ]
  },
  {
   "cell_type": "code",
   "execution_count": 24,
   "metadata": {},
   "outputs": [
    {
     "data": {
      "text/plain": [
       "[Synset('dragon.n.01'),\n",
       " Synset('dragon.n.02'),\n",
       " Synset('draco.n.02'),\n",
       " Synset('dragon.n.04')]"
      ]
     },
     "execution_count": 24,
     "metadata": {},
     "output_type": "execute_result"
    }
   ],
   "source": [
    "wn.synsets('dragon')"
   ]
  },
  {
   "cell_type": "code",
   "execution_count": 10,
   "metadata": {},
   "outputs": [
    {
     "data": {
      "text/plain": [
       "'a wheeled vehicle adapted to the rails of railroad'"
      ]
     },
     "execution_count": 10,
     "metadata": {},
     "output_type": "execute_result"
    }
   ],
   "source": [
    "wn.synset('car.n.02').definition()"
   ]
  },
  {
   "cell_type": "code",
   "execution_count": 11,
   "metadata": {},
   "outputs": [
    {
     "data": {
      "text/plain": [
       "'the compartment that is suspended from an airship and that carries personnel and the cargo and the power plant'"
      ]
     },
     "execution_count": 11,
     "metadata": {},
     "output_type": "execute_result"
    }
   ],
   "source": [
    "wn.synset('car.n.03').definition()"
   ]
  },
  {
   "cell_type": "code",
   "execution_count": 12,
   "metadata": {},
   "outputs": [
    {
     "data": {
      "text/plain": [
       "'where passengers ride up and down'"
      ]
     },
     "execution_count": 12,
     "metadata": {},
     "output_type": "execute_result"
    }
   ],
   "source": [
    "wn.synset('car.n.04').definition()"
   ]
  },
  {
   "cell_type": "code",
   "execution_count": 13,
   "metadata": {
    "collapsed": true
   },
   "outputs": [],
   "source": [
    "motorcar = wn.synset('car.n.01')"
   ]
  },
  {
   "cell_type": "code",
   "execution_count": 14,
   "metadata": {
    "scrolled": true
   },
   "outputs": [
    {
     "data": {
      "text/plain": [
       "[Synset('ambulance.n.01'),\n",
       " Synset('beach_wagon.n.01'),\n",
       " Synset('bus.n.04'),\n",
       " Synset('cab.n.03'),\n",
       " Synset('compact.n.03'),\n",
       " Synset('convertible.n.01'),\n",
       " Synset('coupe.n.01'),\n",
       " Synset('cruiser.n.01'),\n",
       " Synset('electric.n.01'),\n",
       " Synset('gas_guzzler.n.01'),\n",
       " Synset('hardtop.n.01'),\n",
       " Synset('hatchback.n.01'),\n",
       " Synset('horseless_carriage.n.01'),\n",
       " Synset('hot_rod.n.01'),\n",
       " Synset('jeep.n.01'),\n",
       " Synset('limousine.n.01'),\n",
       " Synset('loaner.n.02'),\n",
       " Synset('minicar.n.01'),\n",
       " Synset('minivan.n.01'),\n",
       " Synset('model_t.n.01'),\n",
       " Synset('pace_car.n.01'),\n",
       " Synset('racer.n.02'),\n",
       " Synset('roadster.n.01'),\n",
       " Synset('sedan.n.01'),\n",
       " Synset('sport_utility.n.01'),\n",
       " Synset('sports_car.n.01'),\n",
       " Synset('stanley_steamer.n.01'),\n",
       " Synset('stock_car.n.01'),\n",
       " Synset('subcompact.n.01'),\n",
       " Synset('touring_car.n.01'),\n",
       " Synset('used-car.n.01')]"
      ]
     },
     "execution_count": 14,
     "metadata": {},
     "output_type": "execute_result"
    }
   ],
   "source": [
    "motorcar.hyponyms()"
   ]
  },
  {
   "cell_type": "code",
   "execution_count": 15,
   "metadata": {},
   "outputs": [
    {
     "data": {
      "text/plain": [
       "[Synset('motor_vehicle.n.01')]"
      ]
     },
     "execution_count": 15,
     "metadata": {},
     "output_type": "execute_result"
    }
   ],
   "source": [
    "motorcar.hypernyms()"
   ]
  },
  {
   "cell_type": "code",
   "execution_count": 16,
   "metadata": {
    "collapsed": true
   },
   "outputs": [],
   "source": [
    "cat = wn.synset('cat.n.01')"
   ]
  },
  {
   "cell_type": "code",
   "execution_count": 17,
   "metadata": {},
   "outputs": [
    {
     "data": {
      "text/plain": [
       "[Synset('feline.n.01')]"
      ]
     },
     "execution_count": 17,
     "metadata": {},
     "output_type": "execute_result"
    }
   ],
   "source": [
    "cat.hypernyms()"
   ]
  },
  {
   "cell_type": "code",
   "execution_count": 18,
   "metadata": {},
   "outputs": [
    {
     "data": {
      "text/plain": [
       "[Synset('domestic_cat.n.01'), Synset('wildcat.n.03')]"
      ]
     },
     "execution_count": 18,
     "metadata": {},
     "output_type": "execute_result"
    }
   ],
   "source": [
    "cat.hyponyms()"
   ]
  },
  {
   "cell_type": "code",
   "execution_count": 19,
   "metadata": {
    "collapsed": true
   },
   "outputs": [],
   "source": [
    "dom=wn.synset('domestic_cat.n.01')"
   ]
  },
  {
   "cell_type": "code",
   "execution_count": 20,
   "metadata": {},
   "outputs": [
    {
     "data": {
      "text/plain": [
       "[Synset('abyssinian.n.01'),\n",
       " Synset('alley_cat.n.01'),\n",
       " Synset('angora.n.04'),\n",
       " Synset('burmese_cat.n.01'),\n",
       " Synset('egyptian_cat.n.01'),\n",
       " Synset('kitty.n.04'),\n",
       " Synset('maltese.n.03'),\n",
       " Synset('manx.n.02'),\n",
       " Synset('mouser.n.01'),\n",
       " Synset('persian_cat.n.01'),\n",
       " Synset('siamese_cat.n.01'),\n",
       " Synset('tabby.n.01'),\n",
       " Synset('tabby.n.02'),\n",
       " Synset('tiger_cat.n.02'),\n",
       " Synset('tom.n.02'),\n",
       " Synset('tortoiseshell.n.03')]"
      ]
     },
     "execution_count": 20,
     "metadata": {},
     "output_type": "execute_result"
    }
   ],
   "source": [
    "dom.hyponyms()"
   ]
  },
  {
   "cell_type": "code",
   "execution_count": 21,
   "metadata": {
    "collapsed": true
   },
   "outputs": [],
   "source": [
    "paths=cat.hypernym_paths()"
   ]
  },
  {
   "cell_type": "code",
   "execution_count": 22,
   "metadata": {},
   "outputs": [
    {
     "data": {
      "text/plain": [
       "1"
      ]
     },
     "execution_count": 22,
     "metadata": {},
     "output_type": "execute_result"
    }
   ],
   "source": [
    "len(paths)"
   ]
  },
  {
   "cell_type": "code",
   "execution_count": 23,
   "metadata": {
    "scrolled": true
   },
   "outputs": [
    {
     "data": {
      "text/plain": [
       "['entity.n.01',\n",
       " 'physical_entity.n.01',\n",
       " 'object.n.01',\n",
       " 'whole.n.02',\n",
       " 'living_thing.n.01',\n",
       " 'organism.n.01',\n",
       " 'animal.n.01',\n",
       " 'chordate.n.01',\n",
       " 'vertebrate.n.01',\n",
       " 'mammal.n.01',\n",
       " 'placental.n.01',\n",
       " 'carnivore.n.01',\n",
       " 'feline.n.01',\n",
       " 'cat.n.01']"
      ]
     },
     "execution_count": 23,
     "metadata": {},
     "output_type": "execute_result"
    }
   ],
   "source": [
    "[synset.name() for synset in paths[0]]"
   ]
  },
  {
   "cell_type": "code",
   "execution_count": 72,
   "metadata": {
    "scrolled": false
   },
   "outputs": [
    {
     "name": "stdout",
     "output_type": "stream",
     "text": [
      "8 Synset('organism.n.01')\n",
      "['organism', 'being']\n",
      "[Synset('tissue.n.01')]\n",
      "---\n",
      "18 Synset('animal.n.01')\n",
      "['animal', 'animate_being', 'beast', 'brute', 'creature', 'fauna']\n",
      "[Synset('animal_tissue.n.01')]\n",
      "---\n"
     ]
    }
   ],
   "source": [
    "all_nouns=wn.all_synsets('n')\n",
    "#all_nouns[:10]\n",
    "for i,n in enumerate(all_nouns):\n",
    "    if i>=200: break\n",
    "    hypo=n.hyponyms()\n",
    "    hyper=n.hypernyms()    \n",
    "    words=n.lemma_names()\n",
    "    mero_nyms=n.substance_meronyms()\n",
    "    if len(mero_nyms)>0:\n",
    "        print(i,n)\n",
    "        print(words[:10])\n",
    "        print(mero_nyms)\n",
    "    #print(hypo)\n",
    "    #print(hyper)\n",
    "        print('---')"
   ]
  },
  {
   "cell_type": "code",
   "execution_count": 32,
   "metadata": {
    "collapsed": true
   },
   "outputs": [],
   "source": [
    "tree=wn.synset('tree.n.01')"
   ]
  },
  {
   "cell_type": "code",
   "execution_count": 34,
   "metadata": {},
   "outputs": [
    {
     "data": {
      "text/plain": [
       "[Synset('burl.n.02'),\n",
       " Synset('crown.n.07'),\n",
       " Synset('limb.n.02'),\n",
       " Synset('stump.n.01'),\n",
       " Synset('trunk.n.01')]"
      ]
     },
     "execution_count": 34,
     "metadata": {},
     "output_type": "execute_result"
    }
   ],
   "source": [
    "tree.part_meronyms()"
   ]
  },
  {
   "cell_type": "code",
   "execution_count": 35,
   "metadata": {
    "collapsed": true
   },
   "outputs": [],
   "source": [
    "trunk=wn.synset('trunk.n.01')"
   ]
  },
  {
   "cell_type": "code",
   "execution_count": 36,
   "metadata": {},
   "outputs": [
    {
     "data": {
      "text/plain": [
       "[Synset('tree.n.01')]"
      ]
     },
     "execution_count": 36,
     "metadata": {},
     "output_type": "execute_result"
    }
   ],
   "source": [
    "trunk.part_holonyms()"
   ]
  },
  {
   "cell_type": "code",
   "execution_count": 42,
   "metadata": {},
   "outputs": [
    {
     "data": {
      "text/plain": [
       "[Synset('accelerator.n.01'),\n",
       " Synset('escape_hatch.n.01'),\n",
       " Synset('fuselage.n.01'),\n",
       " Synset('hood.n.09'),\n",
       " Synset('landing_gear.n.01'),\n",
       " Synset('navigation_light.n.01'),\n",
       " Synset('pod.n.04'),\n",
       " Synset('radome.n.01'),\n",
       " Synset('windshield.n.01'),\n",
       " Synset('wing.n.02')]"
      ]
     },
     "execution_count": 42,
     "metadata": {},
     "output_type": "execute_result"
    }
   ],
   "source": [
    "wn.synset('plane.n.01').part_meronyms()"
   ]
  },
  {
   "cell_type": "code",
   "execution_count": 43,
   "metadata": {},
   "outputs": [
    {
     "data": {
      "text/plain": [
       "[Synset('angel.n.01'),\n",
       " Synset('bat.n.01'),\n",
       " Synset('bird.n.01'),\n",
       " Synset('insect.n.01')]"
      ]
     },
     "execution_count": 43,
     "metadata": {},
     "output_type": "execute_result"
    }
   ],
   "source": [
    "wn.synset('wing.n.01').part_holonyms()"
   ]
  },
  {
   "cell_type": "code",
   "execution_count": 46,
   "metadata": {},
   "outputs": [
    {
     "data": {
      "text/plain": [
       "[]"
      ]
     },
     "execution_count": 46,
     "metadata": {},
     "output_type": "execute_result"
    }
   ],
   "source": [
    "wn.synset('hood.n.01').part_holonyms()"
   ]
  },
  {
   "cell_type": "code",
   "execution_count": 47,
   "metadata": {},
   "outputs": [
    {
     "data": {
      "text/plain": [
       "[]"
      ]
     },
     "execution_count": 47,
     "metadata": {},
     "output_type": "execute_result"
    }
   ],
   "source": [
    "wn.synset('cake.n.01').substance_meronyms()"
   ]
  },
  {
   "cell_type": "code",
   "execution_count": 55,
   "metadata": {},
   "outputs": [
    {
     "data": {
      "text/plain": [
       "[Synset('hydrogen.n.01'), Synset('oxygen.n.01')]"
      ]
     },
     "execution_count": 55,
     "metadata": {},
     "output_type": "execute_result"
    }
   ],
   "source": [
    "wn.synset('water.n.01').substance_meronyms()"
   ]
  },
  {
   "cell_type": "code",
   "execution_count": 56,
   "metadata": {},
   "outputs": [
    {
     "data": {
      "text/plain": [
       "[Synset('air.n.01'), Synset('ozone.n.01'), Synset('water.n.01')]"
      ]
     },
     "execution_count": 56,
     "metadata": {},
     "output_type": "execute_result"
    }
   ],
   "source": [
    "wn.synset('oxygen.n.01').substance_holonyms()"
   ]
  },
  {
   "cell_type": "code",
   "execution_count": 60,
   "metadata": {},
   "outputs": [
    {
     "data": {
      "text/plain": [
       "[Synset('gang.n.03')]"
      ]
     },
     "execution_count": 60,
     "metadata": {},
     "output_type": "execute_result"
    }
   ],
   "source": [
    "wn.synset('men.n.01').member_meronyms()"
   ]
  },
  {
   "cell_type": "code",
   "execution_count": 63,
   "metadata": {},
   "outputs": [
    {
     "ename": "WordNetError",
     "evalue": "no lemma 'women' with part of speech 'n'",
     "output_type": "error",
     "traceback": [
      "\u001b[0;31m---------------------------------------------------------------------------\u001b[0m",
      "\u001b[0;31mKeyError\u001b[0m                                  Traceback (most recent call last)",
      "\u001b[0;32m/anaconda/lib/python3.6/site-packages/nltk/corpus/reader/wordnet.py\u001b[0m in \u001b[0;36msynset\u001b[0;34m(self, name)\u001b[0m\n\u001b[1;32m   1288\u001b[0m         \u001b[0;32mtry\u001b[0m\u001b[0;34m:\u001b[0m\u001b[0;34m\u001b[0m\u001b[0m\n\u001b[0;32m-> 1289\u001b[0;31m             \u001b[0moffset\u001b[0m \u001b[0;34m=\u001b[0m \u001b[0mself\u001b[0m\u001b[0;34m.\u001b[0m\u001b[0m_lemma_pos_offset_map\u001b[0m\u001b[0;34m[\u001b[0m\u001b[0mlemma\u001b[0m\u001b[0;34m]\u001b[0m\u001b[0;34m[\u001b[0m\u001b[0mpos\u001b[0m\u001b[0;34m]\u001b[0m\u001b[0;34m[\u001b[0m\u001b[0msynset_index\u001b[0m\u001b[0;34m]\u001b[0m\u001b[0;34m\u001b[0m\u001b[0m\n\u001b[0m\u001b[1;32m   1290\u001b[0m         \u001b[0;32mexcept\u001b[0m \u001b[0mKeyError\u001b[0m\u001b[0;34m:\u001b[0m\u001b[0;34m\u001b[0m\u001b[0m\n",
      "\u001b[0;31mKeyError\u001b[0m: 'n'",
      "\nDuring handling of the above exception, another exception occurred:\n",
      "\u001b[0;31mWordNetError\u001b[0m                              Traceback (most recent call last)",
      "\u001b[0;32m<ipython-input-63-3e06439b8b1c>\u001b[0m in \u001b[0;36m<module>\u001b[0;34m()\u001b[0m\n\u001b[0;32m----> 1\u001b[0;31m \u001b[0mwn\u001b[0m\u001b[0;34m.\u001b[0m\u001b[0msynset\u001b[0m\u001b[0;34m(\u001b[0m\u001b[0;34m'women.n.02'\u001b[0m\u001b[0;34m)\u001b[0m\u001b[0;34m.\u001b[0m\u001b[0mmember_meronyms\u001b[0m\u001b[0;34m(\u001b[0m\u001b[0;34m)\u001b[0m\u001b[0;34m\u001b[0m\u001b[0m\n\u001b[0m",
      "\u001b[0;32m/anaconda/lib/python3.6/site-packages/nltk/corpus/reader/wordnet.py\u001b[0m in \u001b[0;36msynset\u001b[0;34m(self, name)\u001b[0m\n\u001b[1;32m   1290\u001b[0m         \u001b[0;32mexcept\u001b[0m \u001b[0mKeyError\u001b[0m\u001b[0;34m:\u001b[0m\u001b[0;34m\u001b[0m\u001b[0m\n\u001b[1;32m   1291\u001b[0m             \u001b[0mmessage\u001b[0m \u001b[0;34m=\u001b[0m \u001b[0;34m'no lemma %r with part of speech %r'\u001b[0m\u001b[0;34m\u001b[0m\u001b[0m\n\u001b[0;32m-> 1292\u001b[0;31m             \u001b[0;32mraise\u001b[0m \u001b[0mWordNetError\u001b[0m\u001b[0;34m(\u001b[0m\u001b[0mmessage\u001b[0m \u001b[0;34m%\u001b[0m \u001b[0;34m(\u001b[0m\u001b[0mlemma\u001b[0m\u001b[0;34m,\u001b[0m \u001b[0mpos\u001b[0m\u001b[0;34m)\u001b[0m\u001b[0;34m)\u001b[0m\u001b[0;34m\u001b[0m\u001b[0m\n\u001b[0m\u001b[1;32m   1293\u001b[0m         \u001b[0;32mexcept\u001b[0m \u001b[0mIndexError\u001b[0m\u001b[0;34m:\u001b[0m\u001b[0;34m\u001b[0m\u001b[0m\n\u001b[1;32m   1294\u001b[0m             \u001b[0mn_senses\u001b[0m \u001b[0;34m=\u001b[0m \u001b[0mlen\u001b[0m\u001b[0;34m(\u001b[0m\u001b[0mself\u001b[0m\u001b[0;34m.\u001b[0m\u001b[0m_lemma_pos_offset_map\u001b[0m\u001b[0;34m[\u001b[0m\u001b[0mlemma\u001b[0m\u001b[0;34m]\u001b[0m\u001b[0;34m[\u001b[0m\u001b[0mpos\u001b[0m\u001b[0;34m]\u001b[0m\u001b[0;34m)\u001b[0m\u001b[0;34m\u001b[0m\u001b[0m\n",
      "\u001b[0;31mWordNetError\u001b[0m: no lemma 'women' with part of speech 'n'"
     ]
    }
   ],
   "source": [
    "wn.synset('women.n.02').member_meronyms()"
   ]
  },
  {
   "cell_type": "code",
   "execution_count": 64,
   "metadata": {},
   "outputs": [
    {
     "data": {
      "text/plain": [
       "[Synset('person.n.01')]"
      ]
     },
     "execution_count": 64,
     "metadata": {},
     "output_type": "execute_result"
    }
   ],
   "source": [
    "wn.synset('people.n.01').member_meronyms()"
   ]
  },
  {
   "cell_type": "code",
   "execution_count": 66,
   "metadata": {},
   "outputs": [
    {
     "data": {
      "text/plain": [
       "[Synset('army_unit.n.01'), Synset('corps.n.01')]"
      ]
     },
     "execution_count": 66,
     "metadata": {},
     "output_type": "execute_result"
    }
   ],
   "source": [
    "wn.synset('army.n.01').member_meronyms()"
   ]
  },
  {
   "cell_type": "code",
   "execution_count": 67,
   "metadata": {},
   "outputs": [
    {
     "data": {
      "text/plain": [
       "[Synset('calf.n.01')]"
      ]
     },
     "execution_count": 67,
     "metadata": {},
     "output_type": "execute_result"
    }
   ],
   "source": [
    "wn.synset('cattle.n.01').member_meronyms()"
   ]
  },
  {
   "cell_type": "code",
   "execution_count": 68,
   "metadata": {},
   "outputs": [
    {
     "data": {
      "text/plain": [
       "[]"
      ]
     },
     "execution_count": 68,
     "metadata": {},
     "output_type": "execute_result"
    }
   ],
   "source": [
    "wn.synset('poultry.n.01').member_meronyms()"
   ]
  },
  {
   "cell_type": "code",
   "execution_count": 69,
   "metadata": {},
   "outputs": [
    {
     "data": {
      "text/plain": [
       "[Synset('people.n.01')]"
      ]
     },
     "execution_count": 69,
     "metadata": {},
     "output_type": "execute_result"
    }
   ],
   "source": [
    "wn.synset('person.n.01').member_holonyms()"
   ]
  },
  {
   "cell_type": "code",
   "execution_count": 73,
   "metadata": {
    "collapsed": true
   },
   "outputs": [],
   "source": [
    "our_synset=wn.synset('person.n.01')"
   ]
  },
  {
   "cell_type": "code",
   "execution_count": 76,
   "metadata": {
    "scrolled": false
   },
   "outputs": [
    {
     "name": "stdout",
     "output_type": "stream",
     "text": [
      "a human being\n"
     ]
    }
   ],
   "source": [
    "synset_hypo=our_synset.hyponyms()\n",
    "synset_hyper=our_synset.hypernyms()\n",
    "definition=our_synset.definition()\n",
    "print(definition)\n"
   ]
  },
  {
   "cell_type": "code",
   "execution_count": 77,
   "metadata": {},
   "outputs": [
    {
     "data": {
      "text/plain": [
       "'123 abdcd asdasd'"
      ]
     },
     "execution_count": 77,
     "metadata": {},
     "output_type": "execute_result"
    }
   ],
   "source": [
    "list_str=[\"123\",\"abdcd\",\"asdasd\"]\n",
    "\" \".join(list_str)"
   ]
  },
  {
   "cell_type": "code",
   "execution_count": 82,
   "metadata": {},
   "outputs": [
    {
     "name": "stdout",
     "output_type": "stream",
     "text": [
      "any of various tailless stout-bodied amphibians with long hind limbs for leaping; semiaquatic and terrestrial species\n",
      "Hyponym- barking_frog.n.01:of southwest United States and Mexico; call is like a dog's bark\n",
      "Hyponym- crapaud.n.01:large toothed frog of South America and Central America resembling the bullfrog\n",
      "Hyponym- eastern_narrow-mouthed_toad.n.01:small toad of southeastern United States\n",
      "Hyponym- fire-bellied_toad.n.01:toad of central and eastern Europe having red or orange patches mixed with black on its underside\n",
      "Hyponym- leptodactylid_frog.n.01:toothed frogs: terrestrial or aquatic or arboreal\n",
      "Hyponym- liopelma_hamiltoni.n.01:primitive New Zealand frog with four unwebbed toes on forefeet and five on hind feet\n",
      "Hyponym- midwife_toad.n.01:similar in habit to Alytes obstetricians\n",
      "Hyponym- obstetrical_toad.n.01:European toad whose male carries the fertilized eggs wrapped around its hind legs until they hatch\n",
      "Hyponym- robber_frog.n.02:small terrestrial frog of tropical America\n",
      "Hyponym- sheep_frog.n.01:mostly of Central America\n",
      "Hyponym- south_american_poison_toad.n.01:a South American toad\n",
      "Hyponym- spadefoot.n.01:a burrowing toad of the northern hemisphere with a horny spade-like projection on each hind foot\n",
      "Hyponym- tailed_frog.n.01:western North American frog with a taillike copulatory organ\n",
      "Hyponym- tongueless_frog.n.01:almost completely aquatic frog native to Africa and Panama and northern South America\n",
      "Hyponym- tree_frog.n.02:any of various Old World arboreal frogs distinguished from true frogs by adhesive suckers on the toes\n",
      "Hyponym- tree_toad.n.01:arboreal amphibians usually having adhesive disks at the tip of each toe; of southeast Asia and Australia and America\n",
      "Hyponym- true_frog.n.01:insectivorous usually semiaquatic web-footed amphibian with smooth moist skin and long hind legs\n",
      "Hyponym- true_toad.n.01:tailless amphibian similar to a frog but more terrestrial and having drier warty skin\n",
      "Hyponym- western_narrow-mouthed_toad.n.01:small secretive toad with smooth tough skin of central and western North America\n",
      "Hypernym- amphibian.n.03:cold-blooded vertebrate typically living on land but breeding in water; aquatic larvae undergo metamorphosis into adult form\n"
     ]
    }
   ],
   "source": [
    "#problem 14\n",
    "\n",
    "def supergloss(synset_id):\n",
    "    output=[]\n",
    "    our_synset=wn.synset(synset_id)\n",
    "    definition=our_synset.definition() \n",
    "    output.append(definition)\n",
    "    synset_hypo=our_synset.hyponyms()\n",
    "    synset_hyper=our_synset.hypernyms()\n",
    "    for sho in synset_hypo:\n",
    "        hypo_def=sho.definition()\n",
    "        def_item=\"Hyponym- \"+ str(sho.name())+\":\"+hypo_def\n",
    "        output.append(def_item)\n",
    "    for shr in synset_hyper:\n",
    "        hyper_def=shr.definition()\n",
    "        def_item=\"Hypernym- \"+str(shr.name())+\":\"+hyper_def\n",
    "        output.append(def_item)\n",
    "    output_str=\"\\n\".join(output)\n",
    "    return output_str\n",
    "our_synset_id='frog.n.01'\n",
    "out_gloss=supergloss(our_synset_id)\n",
    "print(out_gloss)\n",
    "    \n",
    "        \n",
    "\n",
    "    \n",
    "    "
   ]
  },
  {
   "cell_type": "code",
   "execution_count": 90,
   "metadata": {},
   "outputs": [
    {
     "name": "stdout",
     "output_type": "stream",
     "text": [
      "0.9237045606770992\n"
     ]
    }
   ],
   "source": [
    "all_nouns=list(wn.all_synsets('n'))\n",
    "#all_nouns[:10]\n",
    "#for a in all_nouns[:10]:\n",
    "#    print(a)\n",
    "total_counter=0\n",
    "hypo_counter=0\n",
    "for i,n in enumerate(all_nouns):\n",
    "    hypo=n.hyponyms()\n",
    "    #print(n, len(hypo))\n",
    "    #if len(hypo)==0: continue\n",
    "    hypo_counter+=len(hypo)\n",
    "    total_counter+=1\n",
    "average=hypo_counter/total_counter\n",
    "print(average)"
   ]
  },
  {
   "cell_type": "code",
   "execution_count": 91,
   "metadata": {},
   "outputs": [
    {
     "data": {
      "text/plain": [
       "[Synset('car.n.01'),\n",
       " Synset('car.n.02'),\n",
       " Synset('car.n.03'),\n",
       " Synset('car.n.04'),\n",
       " Synset('cable_car.n.01')]"
      ]
     },
     "execution_count": 91,
     "metadata": {},
     "output_type": "execute_result"
    }
   ],
   "source": [
    "wn.synsets('car')"
   ]
  },
  {
   "cell_type": "code",
   "execution_count": 92,
   "metadata": {},
   "outputs": [
    {
     "data": {
      "text/plain": [
       "[Synset('stock.n.01'),\n",
       " Synset('stock.n.02'),\n",
       " Synset('stock.n.03'),\n",
       " Synset('stock_certificate.n.01'),\n",
       " Synset('store.n.02'),\n",
       " Synset('lineage.n.01'),\n",
       " Synset('breed.n.01'),\n",
       " Synset('broth.n.01'),\n",
       " Synset('stock.n.09'),\n",
       " Synset('stock.n.10'),\n",
       " Synset('stock.n.11'),\n",
       " Synset('stock.n.12'),\n",
       " Synset('malcolm_stock.n.01'),\n",
       " Synset('stock.n.14'),\n",
       " Synset('stock.n.15'),\n",
       " Synset('neckcloth.n.01'),\n",
       " Synset('livestock.n.01'),\n",
       " Synset('stock.v.01'),\n",
       " Synset('stock.v.02'),\n",
       " Synset('stock.v.03'),\n",
       " Synset('stock.v.04'),\n",
       " Synset('stock.v.05'),\n",
       " Synset('stock.v.06'),\n",
       " Synset('sprout.v.02'),\n",
       " Synset('banal.s.01'),\n",
       " Synset('stock.s.02'),\n",
       " Synset('standard.s.05')]"
      ]
     },
     "execution_count": 92,
     "metadata": {},
     "output_type": "execute_result"
    }
   ],
   "source": [
    "wn.synsets('stock')\n",
    "    \n"
   ]
  },
  {
   "cell_type": "code",
   "execution_count": 95,
   "metadata": {
    "scrolled": true
   },
   "outputs": [
    {
     "name": "stdout",
     "output_type": "stream",
     "text": [
      "Synset('car.n.01')\n",
      "a motor vehicle with four wheels; usually propelled by an internal combustion engine\n",
      "['car', 'auto', 'automobile', 'machine', 'motorcar']\n",
      "---\n",
      "Synset('car.n.02')\n",
      "a wheeled vehicle adapted to the rails of railroad\n",
      "['car', 'railcar', 'railway_car', 'railroad_car']\n",
      "---\n",
      "Synset('car.n.03')\n",
      "the compartment that is suspended from an airship and that carries personnel and the cargo and the power plant\n",
      "['car', 'gondola']\n",
      "---\n",
      "Synset('car.n.04')\n",
      "where passengers ride up and down\n",
      "['car', 'elevator_car']\n",
      "---\n",
      "Synset('cable_car.n.01')\n",
      "a conveyance for passengers or freight on a cable railway\n",
      "['cable_car', 'car']\n",
      "---\n"
     ]
    }
   ],
   "source": [
    "for synset in wn.synsets('car'):\n",
    "    print(synset)\n",
    "    print(synset.definition())\n",
    "    print(synset.lemma_names())\n",
    "    print('---')"
   ]
  },
  {
   "cell_type": "code",
   "execution_count": 96,
   "metadata": {},
   "outputs": [
    {
     "data": {
      "text/plain": [
       "7"
      ]
     },
     "execution_count": 96,
     "metadata": {},
     "output_type": "execute_result"
    }
   ],
   "source": [
    "len(wn.synsets('dog', 'n'))"
   ]
  },
  {
   "cell_type": "code",
   "execution_count": 97,
   "metadata": {},
   "outputs": [
    {
     "name": "stdout",
     "output_type": "stream",
     "text": [
      "Synset('rally.n.02')\n"
     ]
    }
   ],
   "source": [
    "all_nouns=list(wn.all_synsets('n'))\n",
    "print(all_nouns[100])\n"
   ]
  },
  {
   "cell_type": "code",
   "execution_count": 98,
   "metadata": {},
   "outputs": [
    {
     "data": {
      "text/plain": [
       "[]"
      ]
     },
     "execution_count": 98,
     "metadata": {},
     "output_type": "execute_result"
    }
   ],
   "source": [
    "wn.synsets('rally.n.02')"
   ]
  },
  {
   "cell_type": "code",
   "execution_count": 101,
   "metadata": {},
   "outputs": [
    {
     "data": {
      "text/plain": [
       "['derring-do']"
      ]
     },
     "execution_count": 101,
     "metadata": {},
     "output_type": "execute_result"
    }
   ],
   "source": [
    "all_nouns[90].lemma_names()"
   ]
  },
  {
   "cell_type": "code",
   "execution_count": 104,
   "metadata": {},
   "outputs": [
    {
     "data": {
      "text/plain": [
       "5"
      ]
     },
     "execution_count": 104,
     "metadata": {},
     "output_type": "execute_result"
    }
   ],
   "source": [
    "len(wn.synsets('car', 'n'))"
   ]
  },
  {
   "cell_type": "code",
   "execution_count": 111,
   "metadata": {},
   "outputs": [
    {
     "name": "stdout",
     "output_type": "stream",
     "text": [
      "None\n"
     ]
    }
   ],
   "source": [
    "\"car-automobile, gem-jewel, journey-voyage, boy-lad, coast-shore, asylum-madhouse, magician-wizard, midday-noon, furnace-stove, food-fruit, bird-cock, bird-crane, tool-implement, brother-monk, lad-brother, crane-implement, journey-car, monk-oracle, cemetery-woodland, food-rooster, coast-hill, forest-graveyard, shore-woodland, monk-slave, coast-forest, lad-wizard, chord-smile, glass-magician, rooster-voyage, noon-string.\"\n",
    "car= wn.synset('car.n.01')\n",
    "automobile= wn.synset('automobile.n.01')\n",
    "\n",
    "\n",
    "happy= wn.synset('happy.a.01')\n",
    "sad= wn.synset('joyful.a.01')\n",
    "\n",
    "similarity=car.path_similarity(automobile)\n",
    "similarity=happy.path_similarity(sad)\n",
    "print(similarity)"
   ]
  },
  {
   "cell_type": "code",
   "execution_count": 113,
   "metadata": {},
   "outputs": [
    {
     "data": {
      "text/plain": [
       "['happy']"
      ]
     },
     "execution_count": 113,
     "metadata": {},
     "output_type": "execute_result"
    }
   ],
   "source": [
    "happy.lemma_names()"
   ]
  },
  {
   "cell_type": "code",
   "execution_count": 116,
   "metadata": {},
   "outputs": [],
   "source": [
    "from itertools import chain\n",
    "lemma_noun = list(set(chain(*[n.lemma_names() for n in wn.all_synsets('n')])))"
   ]
  },
  {
   "cell_type": "code",
   "execution_count": 118,
   "metadata": {},
   "outputs": [
    {
     "data": {
      "text/plain": [
       "119034"
      ]
     },
     "execution_count": 118,
     "metadata": {},
     "output_type": "execute_result"
    }
   ],
   "source": [
    "len(lemma_noun)"
   ]
  },
  {
   "cell_type": "code",
   "execution_count": 120,
   "metadata": {},
   "outputs": [
    {
     "name": "stdout",
     "output_type": "stream",
     "text": [
      "1.2833560159282222\n"
     ]
    }
   ],
   "source": [
    "total_counter=0\n",
    "sense_counter=0\n",
    "for l in lemma_noun:\n",
    "    num_senses=len(wn.synsets(l, 'n'))\n",
    "    sense_counter+=num_senses\n",
    "    total_counter+=1\n",
    "    #print(l,num_senses)\n",
    "average=sense_counter/total_counter\n",
    "print(average)"
   ]
  },
  {
   "cell_type": "code",
   "execution_count": 122,
   "metadata": {},
   "outputs": [
    {
     "data": {
      "text/plain": [
       "10"
      ]
     },
     "execution_count": 122,
     "metadata": {},
     "output_type": "execute_result"
    }
   ],
   "source": [
    "sum([1,2,3,4])"
   ]
  },
  {
   "cell_type": "code",
   "execution_count": 123,
   "metadata": {},
   "outputs": [
    {
     "ename": "TypeError",
     "evalue": "sum() argument after * must be an iterable, not int",
     "output_type": "error",
     "traceback": [
      "\u001b[0;31m---------------------------------------------------------------------------\u001b[0m",
      "\u001b[0;31mTypeError\u001b[0m                                 Traceback (most recent call last)",
      "\u001b[0;32m<ipython-input-123-630e47bcf376>\u001b[0m in \u001b[0;36m<module>\u001b[0;34m()\u001b[0m\n\u001b[0;32m----> 1\u001b[0;31m \u001b[0msum\u001b[0m\u001b[0;34m(\u001b[0m\u001b[0;34m*\u001b[0m\u001b[0;36m1\u001b[0m\u001b[0;34m,\u001b[0m\u001b[0;36m2\u001b[0m\u001b[0;34m,\u001b[0m\u001b[0;36m3\u001b[0m\u001b[0;34m,\u001b[0m\u001b[0;36m4\u001b[0m\u001b[0;34m)\u001b[0m\u001b[0;34m\u001b[0m\u001b[0m\n\u001b[0m",
      "\u001b[0;31mTypeError\u001b[0m: sum() argument after * must be an iterable, not int"
     ]
    }
   ],
   "source": []
  },
  {
   "cell_type": "code",
   "execution_count": 131,
   "metadata": {},
   "outputs": [
    {
     "name": "stdout",
     "output_type": "stream",
     "text": [
      "[(1, 4), (2, 1), (3, 3), (4, 2), (5, 1), (6, 2), (7, 3)]\n"
     ]
    }
   ],
   "source": [
    "from itertools import groupby\n",
    "alist=[1,1,2,3,3,3,4,4,5,6,6,7,7,7,1,1]\n",
    "alist.sort()\n",
    "grouped=[(key,len(list(group))) for key,group in groupby(alist)]\n",
    "\n",
    "print(grouped)"
   ]
  },
  {
   "cell_type": "code",
   "execution_count": 125,
   "metadata": {},
   "outputs": [
    {
     "name": "stdout",
     "output_type": "stream",
     "text": [
      "[(1, <itertools._grouper object at 0x1a1d9f6780>), (2, <itertools._grouper object at 0x1a1d9f6550>), (3, <itertools._grouper object at 0x1a1d9f6320>), (4, <itertools._grouper object at 0x1a1d9f6470>), (5, <itertools._grouper object at 0x1a1d9f6358>), (6, <itertools._grouper object at 0x1a1d9f6390>), (7, <itertools._grouper object at 0x1a1d9f6710>)]\n"
     ]
    }
   ],
   "source": []
  },
  {
   "cell_type": "code",
   "execution_count": null,
   "metadata": {
    "collapsed": true
   },
   "outputs": [],
   "source": []
  }
 ],
 "metadata": {
  "kernelspec": {
   "display_name": "Python 3",
   "language": "python",
   "name": "python3"
  },
  "language_info": {
   "codemirror_mode": {
    "name": "ipython",
    "version": 3
   },
   "file_extension": ".py",
   "mimetype": "text/x-python",
   "name": "python",
   "nbconvert_exporter": "python",
   "pygments_lexer": "ipython3",
   "version": "3.6.1"
  }
 },
 "nbformat": 4,
 "nbformat_minor": 2
}
